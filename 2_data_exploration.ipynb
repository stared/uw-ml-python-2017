{
 "cells": [
  {
   "cell_type": "markdown",
   "metadata": {},
   "source": [
    "# Machine Learning in Python\n",
    "\n",
    "by [Piotr Migdał](http://p.migdal.pl/) & Dominik Krzemiński\n",
    "\n",
    "for El Passion, 2017\n",
    "\n",
    "## 2. Data exploration\n",
    "\n",
    "* [Pandas](http://pandas.pydata.org/) and [Seaborn](https://seaborn.pydata.org/)\n",
    "* on data from Warsaw bike usage\n",
    "\n",
    "Data from:\n",
    "\n",
    "* [Dane z liczników rowerowych w Warszawie](http://greenelephant.pl/shiny/rowery/) by Monika Pawłowska (code: [github.com/pawlowska/shiny-server](https://github.com/pawlowska/shiny-server))\n",
    "* original source: http://rowery.um.warszawa.pl/pomiary-ruchu-rowerowego\n",
    "\n",
    "![](imgs/rowery_ECC2014205.gif)"
   ]
  },
  {
   "cell_type": "code",
   "execution_count": null,
   "metadata": {
    "collapsed": true
   },
   "outputs": [],
   "source": [
    "# tabular data manipulation\n",
    "import pandas as pd\n",
    "\n",
    "# plots\n",
    "%matplotlib inline\n",
    "import matplotlib.pyplot as plt\n",
    "import seaborn as sns"
   ]
  },
  {
   "cell_type": "code",
   "execution_count": null,
   "metadata": {
    "collapsed": false
   },
   "outputs": [],
   "source": [
    "# reading CSV data\n",
    "days = pd.read_csv(\"data/bicycles_weather.csv\", index_col=0, parse_dates=[0])"
   ]
  },
  {
   "cell_type": "code",
   "execution_count": null,
   "metadata": {
    "collapsed": false
   },
   "outputs": [],
   "source": [
    "# first entries\n",
    "days.head()"
   ]
  },
  {
   "cell_type": "code",
   "execution_count": null,
   "metadata": {
    "collapsed": false
   },
   "outputs": [],
   "source": [
    "# last entries\n",
    "days.tail()"
   ]
  },
  {
   "cell_type": "code",
   "execution_count": null,
   "metadata": {
    "collapsed": false
   },
   "outputs": [],
   "source": [
    "# rows and columns\n",
    "days.shape"
   ]
  },
  {
   "cell_type": "code",
   "execution_count": null,
   "metadata": {
    "collapsed": false
   },
   "outputs": [],
   "source": [
    "# columns\n",
    "days.columns"
   ]
  },
  {
   "cell_type": "code",
   "execution_count": null,
   "metadata": {
    "collapsed": false
   },
   "outputs": [],
   "source": [
    "# index\n",
    "days.index[:5]"
   ]
  },
  {
   "cell_type": "code",
   "execution_count": null,
   "metadata": {
    "collapsed": false
   },
   "outputs": [],
   "source": [
    "# data for each column\n",
    "days.info()"
   ]
  },
  {
   "cell_type": "code",
   "execution_count": null,
   "metadata": {
    "collapsed": false
   },
   "outputs": [],
   "source": [
    "# selecting column and looking at its first 8 entries\n",
    "days['weekday'].head(8)"
   ]
  },
  {
   "cell_type": "code",
   "execution_count": null,
   "metadata": {
    "collapsed": false
   },
   "outputs": [],
   "source": [
    "# counting occurences\n",
    "days['weekday'].value_counts()"
   ]
  },
  {
   "cell_type": "code",
   "execution_count": null,
   "metadata": {
    "collapsed": false
   },
   "outputs": [],
   "source": [
    "# maximal values per column\n",
    "days.max()"
   ]
  },
  {
   "cell_type": "code",
   "execution_count": null,
   "metadata": {
    "collapsed": false
   },
   "outputs": [],
   "source": [
    "days.isnull().sum(axis=1).plot()"
   ]
  },
  {
   "cell_type": "code",
   "execution_count": null,
   "metadata": {
    "collapsed": false
   },
   "outputs": [],
   "source": [
    "# temperature by day\n",
    "days['temp'].plot()"
   ]
  },
  {
   "cell_type": "code",
   "execution_count": null,
   "metadata": {
    "collapsed": false
   },
   "outputs": [],
   "source": [
    "# ploting a series\n",
    "days['Most Gdanski - ścieżka rowerowa'].plot()"
   ]
  },
  {
   "cell_type": "code",
   "execution_count": null,
   "metadata": {
    "collapsed": false
   },
   "outputs": [],
   "source": [
    "# plotting a 1-column DataFrame (splot the difference!)\n",
    "days[['Most Gdanski - ścieżka rowerowa']].plot()"
   ]
  },
  {
   "cell_type": "code",
   "execution_count": null,
   "metadata": {
    "collapsed": false
   },
   "outputs": [],
   "source": [
    "# number of days with each temperature\n",
    "days['temp'].hist(bins=25)"
   ]
  },
  {
   "cell_type": "code",
   "execution_count": null,
   "metadata": {
    "collapsed": false
   },
   "outputs": [],
   "source": [
    "some_data = days[['Most Gdanski - ścieżka rowerowa', 'temp']].dropna()\n",
    "plt.plot(some_data['temp'], some_data['Most Gdanski - ścieżka rowerowa'], 'o')"
   ]
  },
  {
   "cell_type": "code",
   "execution_count": null,
   "metadata": {
    "collapsed": false
   },
   "outputs": [],
   "source": [
    "# filling missing values\n",
    "days.fillna(0).head()"
   ]
  },
  {
   "cell_type": "code",
   "execution_count": null,
   "metadata": {
    "collapsed": false
   },
   "outputs": [],
   "source": [
    "# scatter plots of pairs\n",
    "sns.pairplot(data=days.fillna(0),\n",
    "             vars=['Most Gdanski - ścieżka rowerowa',\n",
    "                   'Dworzec Wilenski (al. Solidarności)',\n",
    "                   'temp'],\n",
    "             hue='weekday',\n",
    "             dropna=True,\n",
    "             size=4)"
   ]
  },
  {
   "cell_type": "code",
   "execution_count": null,
   "metadata": {
    "collapsed": false
   },
   "outputs": [],
   "source": [
    "# creating a column, via:\n",
    "\n",
    "# series method\n",
    "days['is_weekend'] = days['weekday'].isin([5, 6])\n",
    "\n",
    "# applying lambda function\n",
    "days['is_weekend'] = days['weekday'].apply(lambda x: x in [5, 6])\n",
    "\n",
    "# using a dictionary to map values\n",
    "days['is_weekend'] = days['weekday'].map({0: False, 1: False, 2: False,\n",
    "                               3: False, 4: False, 5: True, 6: True})\n",
    "\n",
    "# now, use if for a nicer plot"
   ]
  },
  {
   "cell_type": "code",
   "execution_count": null,
   "metadata": {
    "collapsed": false
   },
   "outputs": [],
   "source": [
    "# correlation heatmap\n",
    "sns.heatmap(days.corr())"
   ]
  },
  {
   "cell_type": "code",
   "execution_count": null,
   "metadata": {
    "collapsed": false
   },
   "outputs": [],
   "source": [
    "# averages of y per various factors\n",
    "sns.factorplot(data=days.fillna(0),\n",
    "               y='Most Gdanski - ścieżka rowerowa',\n",
    "               x='weekday',\n",
    "               kind='bar')"
   ]
  },
  {
   "cell_type": "code",
   "execution_count": null,
   "metadata": {
    "collapsed": true
   },
   "outputs": [],
   "source": [
    "sns.factorplot?"
   ]
  },
  {
   "cell_type": "code",
   "execution_count": null,
   "metadata": {
    "collapsed": false
   },
   "outputs": [],
   "source": [
    "sns.factorplot(data=days.fillna(0),\n",
    "               y='Most Gdanski - ścieżka rowerowa',\n",
    "               x='weekday',\n",
    "               col='month',\n",
    "               col_wrap=4,\n",
    "               kind='bar')"
   ]
  },
  {
   "cell_type": "code",
   "execution_count": null,
   "metadata": {
    "collapsed": false
   },
   "outputs": [],
   "source": [
    "# same data, another plot\n",
    "sns.factorplot(data=days.fillna(0),\n",
    "               y='Most Gdanski - ścieżka rowerowa',\n",
    "               x='month',\n",
    "               hue='weekday',\n",
    "               kind='bar',\n",
    "               ci=None,\n",
    "               size=6)"
   ]
  },
  {
   "cell_type": "code",
   "execution_count": null,
   "metadata": {
    "collapsed": false
   },
   "outputs": [],
   "source": [
    "# violon plot\n",
    "sns.factorplot(data=days.fillna(0),\n",
    "               y='Most Gdanski - ścieżka rowerowa',\n",
    "               x='weekday',\n",
    "               kind='violin')"
   ]
  },
  {
   "cell_type": "code",
   "execution_count": null,
   "metadata": {
    "collapsed": false
   },
   "outputs": [],
   "source": [
    "# SQL-like operations\n",
    "days.groupby('weekday').mean()"
   ]
  },
  {
   "cell_type": "markdown",
   "metadata": {},
   "source": [
    "## Further reading\n",
    "\n",
    "* Data manipulation\n",
    "    * [An Introduction to Scientific Python – Pandas](http://www.datadependence.com/2016/05/scientific-python-pandas/)\n",
    "    * [Pandas exercises](https://github.com/guipsamora/pandas_exercises)\n",
    "    * [Top Pandas functions used in GitHub repos](https://kozikow.com/2016/07/01/top-pandas-functions-used-in-github-repos/)\n",
    "* Charts\n",
    "    * [Overview of Python Visualization Tools](http://pbpython.com/visualization-tools-1.html)\n",
    "    * [A Dramatic Tour through Python’s Data Visualization Landscape](http://blog.yhat.com/posts/python-data-viz-landscape.html)\n",
    "    * [Pandas Visualization](http://pandas.pydata.org/pandas-docs/stable/visualization.html)\n",
    "    * [Matplotlib tutorial - Nicolas P. Rougier](http://www.labri.fr/perso/nrougier/teaching/matplotlib/)"
   ]
  },
  {
   "cell_type": "code",
   "execution_count": null,
   "metadata": {
    "collapsed": true
   },
   "outputs": [],
   "source": []
  }
 ],
 "metadata": {
  "anaconda-cloud": {},
  "kernelspec": {
   "display_name": "Python [default]",
   "language": "python",
   "name": "python3"
  },
  "language_info": {
   "codemirror_mode": {
    "name": "ipython",
    "version": 3
   },
   "file_extension": ".py",
   "mimetype": "text/x-python",
   "name": "python",
   "nbconvert_exporter": "python",
   "pygments_lexer": "ipython3",
   "version": "3.5.2"
  }
 },
 "nbformat": 4,
 "nbformat_minor": 1
}
