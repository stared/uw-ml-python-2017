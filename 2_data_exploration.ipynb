{
 "cells": [
  {
   "cell_type": "markdown",
   "metadata": {},
   "source": [
    "# Machine Learning in Python\n",
    "\n",
    "by [Piotr Migdał](http://p.migdal.pl/)\n",
    "\n",
    "Inkubator Uniwersytetu Warszawskiego\n",
    "\n",
    "## 2. Data exploration\n",
    "\n",
    "* [Pandas](http://pandas.pydata.org/) and [Seaborn](https://seaborn.pydata.org/)\n",
    "* on data from Warsaw bike usage\n",
    "\n",
    "Data from:\n",
    "\n",
    "* [Dane z liczników rowerowych w Warszawie](http://greenelephant.pl/shiny/rowery/) by Monika Pawłowska (code: [github.com/pawlowska/shiny-server](https://github.com/pawlowska/shiny-server))\n",
    "* original source: http://rowery.um.warszawa.pl/pomiary-ruchu-rowerowego\n",
    "\n",
    "![](imgs/rowery_ECC2014205.gif)"
   ]
  },
  {
   "cell_type": "code",
   "execution_count": null,
   "metadata": {
    "collapsed": true
   },
   "outputs": [],
   "source": [
    "# tabular data manipulation\n",
    "import pandas as pd\n",
    "\n",
    "# plots\n",
    "%matplotlib inline\n",
    "import matplotlib.pyplot as plt\n",
    "import seaborn as sns"
   ]
  },
  {
   "cell_type": "code",
   "execution_count": null,
   "metadata": {},
   "outputs": [],
   "source": [
    "# reading CSV data\n",
    "days = pd.read_csv(\"data/dane_zsumowane_z_pogoda.csv\", index_col=0, parse_dates=[0])"
   ]
  },
  {
   "cell_type": "code",
   "execution_count": null,
   "metadata": {},
   "outputs": [],
   "source": [
    "# first entries\n",
    "days.head()"
   ]
  },
  {
   "cell_type": "code",
   "execution_count": null,
   "metadata": {},
   "outputs": [],
   "source": [
    "# last entries\n",
    "days.tail(3)"
   ]
  },
  {
   "cell_type": "code",
   "execution_count": null,
   "metadata": {},
   "outputs": [],
   "source": [
    "days.sample(5)"
   ]
  },
  {
   "cell_type": "code",
   "execution_count": null,
   "metadata": {},
   "outputs": [],
   "source": [
    "# rows and columns\n",
    "days.shape"
   ]
  },
  {
   "cell_type": "code",
   "execution_count": null,
   "metadata": {},
   "outputs": [],
   "source": [
    "# columns\n",
    "days.columns"
   ]
  },
  {
   "cell_type": "code",
   "execution_count": null,
   "metadata": {},
   "outputs": [],
   "source": [
    "# index\n",
    "days.index[:5]"
   ]
  },
  {
   "cell_type": "code",
   "execution_count": null,
   "metadata": {},
   "outputs": [],
   "source": [
    "# data for each column\n",
    "days.info()"
   ]
  },
  {
   "cell_type": "code",
   "execution_count": null,
   "metadata": {},
   "outputs": [],
   "source": [
    "# selecting column and looking at its first 8 entries\n",
    "days['Jaki_dzien'].head(8)"
   ]
  },
  {
   "cell_type": "code",
   "execution_count": null,
   "metadata": {},
   "outputs": [],
   "source": [
    "# counting occurences\n",
    "days['Jaki_dzien'].value_counts()"
   ]
  },
  {
   "cell_type": "code",
   "execution_count": null,
   "metadata": {},
   "outputs": [],
   "source": [
    "# maximal values per column\n",
    "days.max()"
   ]
  },
  {
   "cell_type": "code",
   "execution_count": null,
   "metadata": {},
   "outputs": [],
   "source": [
    "days.isnull().sum(axis=1).plot()"
   ]
  },
  {
   "cell_type": "code",
   "execution_count": null,
   "metadata": {},
   "outputs": [],
   "source": [
    "# temperature by day\n",
    "days['temp_avg'].plot()"
   ]
  },
  {
   "cell_type": "code",
   "execution_count": null,
   "metadata": {},
   "outputs": [],
   "source": [
    "# ploting a series\n",
    "days['Marszałkowska'].plot()"
   ]
  },
  {
   "cell_type": "code",
   "execution_count": null,
   "metadata": {},
   "outputs": [],
   "source": [
    "# plotting a 1-column DataFrame (splot the difference!)\n",
    "days[['Marszałkowska']].plot()"
   ]
  },
  {
   "cell_type": "code",
   "execution_count": null,
   "metadata": {},
   "outputs": [],
   "source": [
    "# number of days with each temperature\n",
    "days['temp_avg'].hist(bins=25)"
   ]
  },
  {
   "cell_type": "code",
   "execution_count": null,
   "metadata": {},
   "outputs": [],
   "source": [
    "some_data = days[['Marszałkowska', 'temp_avg']].dropna()\n",
    "plt.plot(some_data['temp_avg'], some_data['Marszałkowska'], 'o')"
   ]
  },
  {
   "cell_type": "code",
   "execution_count": null,
   "metadata": {},
   "outputs": [],
   "source": [
    "# filling missing values\n",
    "days.fillna(0).head()"
   ]
  },
  {
   "cell_type": "code",
   "execution_count": null,
   "metadata": {},
   "outputs": [],
   "source": [
    "# scatter plots of pairs\n",
    "sns.pairplot(data=days.fillna(0),\n",
    "             vars=['Marszałkowska',\n",
    "                   'Banacha',\n",
    "                   'temp_avg'],\n",
    "             hue='Jaki_dzien',\n",
    "             dropna=True,\n",
    "             size=4)"
   ]
  },
  {
   "cell_type": "code",
   "execution_count": null,
   "metadata": {},
   "outputs": [],
   "source": [
    "# creating a column, via:\n",
    "\n",
    "# series method\n",
    "days['is_weekend'] = days['Jaki_dzien'] == 'weekend'\n",
    "\n",
    "# applying lambda function\n",
    "days['is_weekend'] = days['Jaki_dzien'].apply(lambda x: x == 'weekend')\n",
    "\n",
    "# using a dictionary to map values\n",
    "days['is_weekend'] = days['Jaki_dzien'].map({'roboczy': 0, 'weekend': 1})\n",
    "\n",
    "# now, use if for a nicer plot"
   ]
  },
  {
   "cell_type": "code",
   "execution_count": null,
   "metadata": {},
   "outputs": [],
   "source": [
    "# correlation heatmap\n",
    "sns.heatmap(days.corr())"
   ]
  },
  {
   "cell_type": "code",
   "execution_count": null,
   "metadata": {},
   "outputs": [],
   "source": [
    "# averages of y per various factors\n",
    "sns.factorplot(data=days.fillna(0),\n",
    "               y='Banacha',\n",
    "               x='Jaki_dzien',\n",
    "               kind='bar')"
   ]
  },
  {
   "cell_type": "code",
   "execution_count": null,
   "metadata": {},
   "outputs": [],
   "source": [
    "sns.factorplot(data=days.fillna(0),\n",
    "               y='Marszałkowska',\n",
    "               x='Jaki_dzien',\n",
    "               col='startM',\n",
    "               col_wrap=4,\n",
    "               kind='bar')"
   ]
  },
  {
   "cell_type": "code",
   "execution_count": null,
   "metadata": {},
   "outputs": [],
   "source": [
    "# same data, another plot\n",
    "sns.factorplot(data=days.fillna(0),\n",
    "               y='Banacha',\n",
    "               x='startM',\n",
    "               hue='Jaki_dzien',\n",
    "               kind='bar',\n",
    "               ci=None,\n",
    "               size=6)"
   ]
  },
  {
   "cell_type": "code",
   "execution_count": null,
   "metadata": {},
   "outputs": [],
   "source": [
    "# violon plot\n",
    "sns.factorplot(data=days.fillna(0),\n",
    "               y='Banacha',\n",
    "               x='Jaki_dzien',\n",
    "               kind='violin')"
   ]
  },
  {
   "cell_type": "code",
   "execution_count": null,
   "metadata": {},
   "outputs": [],
   "source": [
    "# SQL-like operations\n",
    "days.groupby('Jaki_dzien').mean()"
   ]
  },
  {
   "cell_type": "markdown",
   "metadata": {},
   "source": [
    "## Further reading\n",
    "\n",
    "* Data manipulation\n",
    "    * [An Introduction to Scientific Python – Pandas](http://www.datadependence.com/2016/05/scientific-python-pandas/)\n",
    "    * [Pandas exercises](https://github.com/guipsamora/pandas_exercises)\n",
    "    * [Top Pandas functions used in GitHub repos](https://kozikow.com/2016/07/01/top-pandas-functions-used-in-github-repos/)\n",
    "* Charts\n",
    "    * [Overview of Python Visualization Tools](http://pbpython.com/visualization-tools-1.html)\n",
    "    * [A Dramatic Tour through Python’s Data Visualization Landscape](http://blog.yhat.com/posts/python-data-viz-landscape.html)\n",
    "    * [Pandas Visualization](http://pandas.pydata.org/pandas-docs/stable/visualization.html)\n",
    "    * [Matplotlib tutorial - Nicolas P. Rougier](http://www.labri.fr/perso/nrougier/teaching/matplotlib/)"
   ]
  },
  {
   "cell_type": "code",
   "execution_count": null,
   "metadata": {
    "collapsed": true
   },
   "outputs": [],
   "source": []
  }
 ],
 "metadata": {
  "anaconda-cloud": {},
  "kernelspec": {
   "display_name": "Python [default]",
   "language": "python",
   "name": "python3"
  },
  "language_info": {
   "codemirror_mode": {
    "name": "ipython",
    "version": 3
   },
   "file_extension": ".py",
   "mimetype": "text/x-python",
   "name": "python",
   "nbconvert_exporter": "python",
   "pygments_lexer": "ipython3",
   "version": "3.5.3"
  }
 },
 "nbformat": 4,
 "nbformat_minor": 1
}
