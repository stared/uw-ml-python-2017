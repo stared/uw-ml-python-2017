{
 "cells": [
  {
   "cell_type": "markdown",
   "metadata": {},
   "source": [
    "# Machine Learning in Python\n",
    "\n",
    "by [Piotr Migdał](http://p.migdal.pl/) & [Dominik Krzemiński](https://github.com/dokato/)\n",
    "\n",
    "for El Passion, 2017\n",
    "\n",
    "## 8.  Titanic project"
   ]
  },
  {
   "cell_type": "markdown",
   "metadata": {},
   "source": [
    "![\"titanic\"](https://upload.wikimedia.org/wikipedia/commons/5/51/Titanic-New_York_Herald_front_page.jpeg)"
   ]
  },
  {
   "cell_type": "code",
   "execution_count": null,
   "metadata": {
    "collapsed": false
   },
   "outputs": [],
   "source": [
    "import numpy as np\n",
    "import matplotlib.pyplot as plt\n",
    "import pandas as pd\n",
    "import seaborn as sns\n",
    "plt.style.use('ggplot')\n",
    "\n",
    "%matplotlib inline"
   ]
  },
  {
   "cell_type": "markdown",
   "metadata": {},
   "source": [
    "On April 15, 1912, during her maiden voyage, the Titanic sank after colliding with an iceberg, killing 1502 out of 2224 passengers and crew."
   ]
  },
  {
   "cell_type": "markdown",
   "metadata": {},
   "source": [
    "## Data exploration"
   ]
  },
  {
   "cell_type": "code",
   "execution_count": null,
   "metadata": {
    "collapsed": false
   },
   "outputs": [],
   "source": [
    "data = pd.read_csv(\"data/titanic.csv\")"
   ]
  },
  {
   "cell_type": "markdown",
   "metadata": {},
   "source": [
    "Let's take a look at the first 10 rows of the data."
   ]
  },
  {
   "cell_type": "code",
   "execution_count": null,
   "metadata": {
    "collapsed": false
   },
   "outputs": [],
   "source": [
    "data.head(10)"
   ]
  },
  {
   "cell_type": "markdown",
   "metadata": {},
   "source": [
    "Description:\n",
    "\n",
    "- _Survived_ - Survival (0 = No, 1 = Yes)\n",
    "- _Pclass_ - Ticket class (1 = 1st, 2 = 2nd, 3 = 3rd)\n",
    "- _Sex_ - sex\t\n",
    "- _Age_  - age in years\t\n",
    "- _SibSp_ - nubmer of siblings / spouses aboard the Titanic\t\n",
    "- _Parch_ - number of parents / children aboard the Titanic\t\n",
    "- _Ticket_ - ticket number\t\n",
    "- _Fare_ - passenger fare\t\n",
    "- _Cabin_ - cabin number\t\n",
    "- _Embarked_ - port of embarkation (C = Cherbourg, Q = Queenstown, S = Southampton)\n"
   ]
  },
  {
   "cell_type": "markdown",
   "metadata": {},
   "source": [
    "Let's summarize quantitative data."
   ]
  },
  {
   "cell_type": "code",
   "execution_count": null,
   "metadata": {
    "collapsed": false
   },
   "outputs": [],
   "source": [
    "data.describe()"
   ]
  },
  {
   "cell_type": "markdown",
   "metadata": {},
   "source": [
    "## Visualization"
   ]
  },
  {
   "cell_type": "markdown",
   "metadata": {},
   "source": [
    "In this part we will make some plots to better understand what our data can tell us about passengers."
   ]
  },
  {
   "cell_type": "code",
   "execution_count": null,
   "metadata": {
    "collapsed": false
   },
   "outputs": [],
   "source": [
    "pd.value_counts(data.Pclass).plot(kind='bar', rot=1)\n",
    "plt.title('Number of passengers in each class')\n",
    "plt.xlabel('Passenger Class')\n",
    "plt.show()"
   ]
  },
  {
   "cell_type": "code",
   "execution_count": null,
   "metadata": {
    "collapsed": false
   },
   "outputs": [],
   "source": [
    "pd.value_counts(data.Sex).plot(kind='bar', rot=1, color='g')\n",
    "plt.title('Number of passengers depending on gender')\n",
    "plt.show()"
   ]
  },
  {
   "cell_type": "code",
   "execution_count": null,
   "metadata": {
    "collapsed": false
   },
   "outputs": [],
   "source": [
    "ax = plt.subplot(111)\n",
    "pd.value_counts(data.Survived).plot(kind='bar', rot=1, color='b')\n",
    "labels = [item.get_text() for item in ax.get_xticklabels()]\n",
    "labels[0] = 'Not survived'\n",
    "labels[1] = 'Survived'\n",
    "ax.set_xticklabels(labels)\n",
    "plt.title('Number of survivors')\n",
    "plt.show()"
   ]
  },
  {
   "cell_type": "code",
   "execution_count": null,
   "metadata": {
    "collapsed": false
   },
   "outputs": [],
   "source": [
    "facet = sns.FacetGrid(data, hue='Survived' , aspect=4,row = 'Sex')\n",
    "facet.map(sns.kdeplot, 'Age', shade=True)\n",
    "facet.set(xlim=(0, data['Age'].max()))\n",
    "facet.add_legend()"
   ]
  },
  {
   "cell_type": "markdown",
   "metadata": {},
   "source": [
    "All above pictures present relation of number of Titanic passengers depending on chosen features: age, gender, class. \n",
    "\n",
    "- First picture shows us that the majority of travellers were third class passengers;\n",
    "- From second we can conclude that more than 60 % of them were males;\n",
    "- Bar plot in third picture presents well-known fact that most passengers got drawned;\n",
    "- From histograms above it's easily visible that passenger in the first order tried to save children and also that elder people had the lowest chances to survive."
   ]
  },
  {
   "cell_type": "code",
   "execution_count": null,
   "metadata": {
    "collapsed": false
   },
   "outputs": [],
   "source": [
    "grdata = pd.groupby(data, 'Pclass')\n",
    "grdata.Fare.mean().plot('bar', color='y', rot=1)\n",
    "plt.title('Average passenger fare in each class')\n",
    "plt.xlabel('Passenger Class')\n",
    "plt.show()"
   ]
  },
  {
   "cell_type": "code",
   "execution_count": null,
   "metadata": {
    "collapsed": false
   },
   "outputs": [],
   "source": [
    "sns.pointplot(x=\"Pclass\", y=\"Survived\", hue=\"Sex\", data=data,\n",
    "              palette={\"male\": \"blue\", \"female\": \"red\"},\n",
    "              markers=[\"*\", \"o\"], linestyles=[\"-\", \"--\"])\n",
    "plt.show()"
   ]
  },
  {
   "cell_type": "markdown",
   "metadata": {},
   "source": [
    "In the first picture we see an average fare depending on class. It's not surprising that the highest prices were in first class, but the difference between first and second is significant. What about chances to survive? From the second picture we see that well-off passengers had greater chances to survive, which also agree with image of the catastrophe from James Cameron movie."
   ]
  },
  {
   "cell_type": "code",
   "execution_count": null,
   "metadata": {
    "collapsed": false
   },
   "outputs": [],
   "source": [
    "sns.factorplot('SibSp', 'Survived', data=data, size=7)\n",
    "plt.show()"
   ]
  },
  {
   "cell_type": "markdown",
   "metadata": {},
   "source": [
    "## Warm-up exercises"
   ]
  },
  {
   "cell_type": "markdown",
   "metadata": {},
   "source": [
    "(a) Create factorplot for number of parents / children aboard the Titanic.\n",
    "\n",
    "(b) What does it tell about survivance?"
   ]
  },
  {
   "cell_type": "code",
   "execution_count": null,
   "metadata": {
    "collapsed": true
   },
   "outputs": [],
   "source": []
  },
  {
   "cell_type": "markdown",
   "metadata": {},
   "source": [
    "## Filling-in missing data"
   ]
  },
  {
   "cell_type": "code",
   "execution_count": null,
   "metadata": {
    "collapsed": false
   },
   "outputs": [],
   "source": [
    "data['Fare'].fillna(data['Fare'].median(), inplace=True)\n",
    "data['Embarked'].fillna('S', inplace=True)"
   ]
  },
  {
   "cell_type": "markdown",
   "metadata": {},
   "source": [
    "## Prediction"
   ]
  },
  {
   "cell_type": "markdown",
   "metadata": {},
   "source": [
    "Your task is to write classifier, which predicts `Survived` label from given Titanic data."
   ]
  },
  {
   "cell_type": "markdown",
   "metadata": {},
   "source": [
    "Before writing any code, think about following questions:\n",
    "\n",
    "- what kind of problem you approach: regression or classification?\n",
    "\n",
    "- what kind of algorithms you can use?\n",
    "\n",
    "- what features are the most informative?\n",
    "\n",
    "- how to test your classifier performance?"
   ]
  },
  {
   "cell_type": "code",
   "execution_count": null,
   "metadata": {
    "collapsed": false
   },
   "outputs": [],
   "source": [
    "preddataX = data[[ ... ]] # here specify interesting \n",
    "                          # features as string separated by commas e.g. 'Age', 'Pclass'\n",
    "\n",
    "# if you want to use gender code it to binary values\n",
    "#preddataX['Sex'] = (preddataX['Sex']=='male').astype(int)\n",
    "\n",
    "preddataY = data['Survived']\n",
    "\n",
    "# transform to numpy arrays\n",
    "X = preddataX.as_matrix()\n",
    "y = preddataY.as_matrix()"
   ]
  },
  {
   "cell_type": "markdown",
   "metadata": {},
   "source": [
    "Let's split the data into train and test sets."
   ]
  },
  {
   "cell_type": "code",
   "execution_count": null,
   "metadata": {
    "collapsed": true
   },
   "outputs": [],
   "source": [
    "from sklearn.model_selection import train_test_split"
   ]
  },
  {
   "cell_type": "code",
   "execution_count": null,
   "metadata": {
    "collapsed": false
   },
   "outputs": [],
   "source": [
    "X_train, X_test, y_train, y_test = train_test_split(X, y, test_size=0.2)"
   ]
  },
  {
   "cell_type": "markdown",
   "metadata": {},
   "source": [
    "That's all you need to perform the task. Good luck :)"
   ]
  },
  {
   "cell_type": "code",
   "execution_count": null,
   "metadata": {
    "collapsed": true
   },
   "outputs": [],
   "source": []
  }
 ],
 "metadata": {
  "kernelspec": {
   "display_name": "Python 3",
   "language": "python",
   "name": "python3"
  },
  "language_info": {
   "codemirror_mode": {
    "name": "ipython",
    "version": 3
   },
   "file_extension": ".py",
   "mimetype": "text/x-python",
   "name": "python",
   "nbconvert_exporter": "python",
   "pygments_lexer": "ipython3",
   "version": "3.6.0"
  }
 },
 "nbformat": 4,
 "nbformat_minor": 0
}
