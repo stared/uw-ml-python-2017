{
 "cells": [
  {
   "cell_type": "markdown",
   "metadata": {},
   "source": [
    "# Machine Learning in Python\n",
    "\n",
    "by [Piotr Migdał](http://p.migdal.pl/)\n",
    "\n",
    "Inkubator Uniwersytetu Warszawskiego\n",
    "\n",
    "## 5. Student Dataset - exploration\n",
    "\n",
    "Dataset from: https://archive.ics.uci.edu/ml/datasets/Student+Performance\n",
    "\n",
    "> This data approach student achievement in secondary education of two Portuguese schools. The data attributes include student grades, demographic, social and school related features) and it was collected by using school reports and questionnaires.\n",
    "\n",
    "* Attributes for both `student-mat.csv` (Math course) and `student-por.csv` (Portuguese language course) datasets: \n",
    "  * 1 school - student's school (binary: 'GP' - Gabriel Pereira or 'MS' - Mousinho da Silveira) \n",
    "  * 2 sex - student's sex (binary: 'F' - female or 'M' - male) \n",
    "  * 3 age - student's age (numeric: from 15 to 22) \n",
    "  * 4 address - student's home address type (binary: 'U' - urban or 'R' - rural) \n",
    "  * 5 famsize - family size (binary: 'LE3' - less or equal to 3 or 'GT3' - greater than 3) \n",
    "  * 6 Pstatus - parent's cohabitation status (binary: 'T' - living together or 'A' - apart) \n",
    "  * 7 Medu - mother's education (numeric: 0 - none, 1 - primary education (4th grade), 2 - 5th to 9th grade, 3 - secondary education or 4 - higher education) \n",
    "  * 8 Fedu - father's education (numeric: 0 - none, 1 - primary education (4th grade), 2 - 5th to 9th grade, 3 - secondary education or 4 - higher education) \n",
    "  * 9 Mjob - mother's job (nominal: 'teacher', 'health' care related, civil 'services' (e.g. administrative or police), 'at_home' or 'other') \n",
    "  * 10 Fjob - father's job (nominal: 'teacher', 'health' care related, civil 'services' (e.g. administrative or police), 'at_home' or 'other') \n",
    "  * 11 reason - reason to choose this school (nominal: close to 'home', school 'reputation', 'course' preference or 'other') \n",
    "  * 12 guardian - student's guardian (nominal: 'mother', 'father' or 'other') \n",
    "  * 13 traveltime - home to school travel time (numeric: 1 - <15 min., 2 - 15 to 30 min., 3 - 30 min. to 1 hour, or 4 - >1 hour) \n",
    "  * 14 studytime - weekly study time (numeric: 1 - <2 hours, 2 - 2 to 5 hours, 3 - 5 to 10 hours, or 4 - >10 hours) \n",
    "  * 15 failures - number of past class failures (numeric: n if 1<=n<3, else 4) \n",
    "  * 16 schoolsup - extra educational support (binary: yes or no) \n",
    "  * 17 famsup - family educational support (binary: yes or no) \n",
    "  * 18 paid - extra paid classes within the course subject (Math or Portuguese) (binary: yes or no) \n",
    "  * 19 activities - extra-curricular activities (binary: yes or no) \n",
    "  * 20 nursery - attended nursery school (binary: yes or no) \n",
    "  * 21 higher - wants to take higher education (binary: yes or no) \n",
    "  * 22 internet - Internet access at home (binary: yes or no) \n",
    "  * 23 romantic - with a romantic relationship (binary: yes or no) \n",
    "  * 24 famrel - quality of family relationships (numeric: from 1 - very bad to 5 - excellent) \n",
    "  * 25 freetime - free time after school (numeric: from 1 - very low to 5 - very high) \n",
    "  * 26 goout - going out with friends (numeric: from 1 - very low to 5 - very high) \n",
    "  * 27 Dalc - workday alcohol consumption (numeric: from 1 - very low to 5 - very high) \n",
    "  * 28 Walc - weekend alcohol consumption (numeric: from 1 - very low to 5 - very high) \n",
    "  * 29 health - current health status (numeric: from 1 - very bad to 5 - very good) \n",
    "  * 30 absences - number of school absences (numeric: from 0 to 93) \n",
    "* these grades are related with the course subject, Math or Portuguese: \n",
    "  * 31 G1 - first period grade (numeric: from 0 to 20) \n",
    "  * 31 G2 - second period grade (numeric: from 0 to 20) \n",
    "  * 32 G3 - final grade (numeric: from 0 to 20, output target)\n",
    "\n",
    "### Reference \n",
    "\n",
    "* P. Cortez and A. Silva. Using Data Mining to Predict Secondary School Student Performance. In A. Brito and J. Teixeira Eds., Proceedings of 5th FUture BUsiness TEChnology Conference (FUBUTEC 2008) pp. 5-12, Porto, Portugal, April, 2008, EUROSIS, ISBN 978-9077381-39-7. http://www3.dsi.uminho.pt/pcortez/student.pdf"
   ]
  },
  {
   "cell_type": "code",
   "execution_count": null,
   "metadata": {
    "collapsed": true
   },
   "outputs": [],
   "source": [
    "import pandas as pd\n",
    "\n",
    "%matplotlib inline\n",
    "\n",
    "import matplotlib.pyplot as plt\n",
    "import seaborn as sns\n",
    "sns.set_style('whitegrid')"
   ]
  },
  {
   "cell_type": "code",
   "execution_count": null,
   "metadata": {
    "collapsed": true
   },
   "outputs": [],
   "source": [
    "students = pd.read_csv(\"data/student/student-por.csv\", delimiter=';')"
   ]
  },
  {
   "cell_type": "code",
   "execution_count": null,
   "metadata": {},
   "outputs": [],
   "source": [
    "students.head()"
   ]
  },
  {
   "cell_type": "code",
   "execution_count": null,
   "metadata": {},
   "outputs": [],
   "source": [
    "students.columns"
   ]
  },
  {
   "cell_type": "code",
   "execution_count": null,
   "metadata": {},
   "outputs": [],
   "source": [
    "students.info()"
   ]
  },
  {
   "cell_type": "code",
   "execution_count": null,
   "metadata": {},
   "outputs": [],
   "source": [
    "students[\"famsize\"].value_counts().plot('bar')"
   ]
  },
  {
   "cell_type": "code",
   "execution_count": null,
   "metadata": {
    "scrolled": false
   },
   "outputs": [],
   "source": [
    "for col in students.columns:\n",
    "    counts = students[col].value_counts()\n",
    "    if len(counts) <= 10:\n",
    "        counts.plot('barh', title=col)\n",
    "        plt.show()\n",
    "    else:\n",
    "        print(col, \"has more values than 10\")"
   ]
  },
  {
   "cell_type": "code",
   "execution_count": null,
   "metadata": {},
   "outputs": [],
   "source": [
    "sns.factorplot(data=students, y='Dalc', x='romantic')"
   ]
  },
  {
   "cell_type": "code",
   "execution_count": null,
   "metadata": {},
   "outputs": [],
   "source": [
    "sns.factorplot(data=students, y='G1', x='Mjob', kind='bar')"
   ]
  },
  {
   "cell_type": "code",
   "execution_count": null,
   "metadata": {},
   "outputs": [],
   "source": [
    "students.pivot_table(index='Fjob', columns='Mjob', values='school', aggfunc='count', fill_value=0)"
   ]
  },
  {
   "cell_type": "code",
   "execution_count": null,
   "metadata": {},
   "outputs": [],
   "source": [
    "pairs = students.pivot_table(index='Fjob', columns='Mjob', values='school', aggfunc='count', fill_value=0)\n",
    "sns.heatmap(pairs, annot=True, fmt='d')"
   ]
  },
  {
   "cell_type": "code",
   "execution_count": null,
   "metadata": {
    "collapsed": true
   },
   "outputs": [],
   "source": [
    "categorical_columns = [col for col in students.columns if students[col].dtype == 'O']"
   ]
  },
  {
   "cell_type": "code",
   "execution_count": null,
   "metadata": {},
   "outputs": [],
   "source": [
    "categorical_columns"
   ]
  },
  {
   "cell_type": "code",
   "execution_count": null,
   "metadata": {
    "collapsed": true
   },
   "outputs": [],
   "source": [
    "#  dummy variables (one-hot encoding)\n",
    "students_dummy = pd.get_dummies(students, columns=categorical_columns, drop_first=True)"
   ]
  },
  {
   "cell_type": "code",
   "execution_count": null,
   "metadata": {},
   "outputs": [],
   "source": [
    "students_dummy.columns"
   ]
  },
  {
   "cell_type": "code",
   "execution_count": null,
   "metadata": {},
   "outputs": [],
   "source": [
    "students_dummy.head()"
   ]
  },
  {
   "cell_type": "code",
   "execution_count": null,
   "metadata": {
    "collapsed": true
   },
   "outputs": [],
   "source": [
    "students_dummy.to_csv(\"data/students_cleaner.csv\", index=False)"
   ]
  },
  {
   "cell_type": "markdown",
   "metadata": {},
   "source": [
    "## Further reading\n",
    "\n",
    "* [What is one hot encoding and when is it used in data science?](https://www.quora.com/What-is-one-hot-encoding-and-when-is-it-used-in-data-science)\n",
    "* [One-hot vs dummy encoding in Scikit-learn](https://stats.stackexchange.com/questions/224051/one-hot-vs-dummy-encoding-in-scikit-learn)\n",
    "* [Pandas Pivot Table Explained](http://pbpython.com/pandas-pivot-table-explained.html)\n",
    "* [Reshaping in Pandas - Pivot, Pivot-Table, Stack and Unstack explained with Pictures](http://nikgrozev.com/2015/07/01/reshaping-in-pandas-pivot-pivot-table-stack-and-unstack-explained-with-pictures/)"
   ]
  },
  {
   "cell_type": "code",
   "execution_count": null,
   "metadata": {
    "collapsed": true
   },
   "outputs": [],
   "source": []
  }
 ],
 "metadata": {
  "anaconda-cloud": {},
  "kernelspec": {
   "display_name": "Python [default]",
   "language": "python",
   "name": "python3"
  },
  "language_info": {
   "codemirror_mode": {
    "name": "ipython",
    "version": 3
   },
   "file_extension": ".py",
   "mimetype": "text/x-python",
   "name": "python",
   "nbconvert_exporter": "python",
   "pygments_lexer": "ipython3",
   "version": "3.5.3"
  }
 },
 "nbformat": 4,
 "nbformat_minor": 1
}
