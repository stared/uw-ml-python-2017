{
 "cells": [
  {
   "cell_type": "markdown",
   "metadata": {},
   "source": [
    "# Machine Learning in Python\n",
    "\n",
    "by [Piotr Migdał](http://p.migdal.pl/)\n",
    "\n",
    "Inkubator Uniwersytetu Warszawskiego\n",
    "\n",
    "## 0. Jupyter Notebook"
   ]
  },
  {
   "cell_type": "markdown",
   "metadata": {},
   "source": [
    "### Installation\n",
    "\n",
    "* go to [Anaconda](https://www.continuum.io/downloads) and install Python 3.6 (not: 2.7) for your system\n",
    "    * works on Windows, Mac OSX and Linux\n",
    "    * comes with [packages](https://docs.continuum.io/anaconda/pkg-docs) for data science\n",
    "* run `jupyter notebook` from a desired folder (in Windows: run Jupyter Notebook application)\n",
    "* if you require to install additional packages, use `conda install` or `pip install`\n",
    "\n",
    "There are other ways to install Python, but they rarely work the same way on every system (especially with installation of additional packages). Just make sure you install (usually `pip install`):\n",
    "\n",
    "* [Jupyter Notebook](http://jupyter.org/) - this environment\n",
    "* [NumPy](http://www.numpy.org/) - numerical arrays\n",
    "* [SciPy](https://www.scipy.org/) - numerical operations\n",
    "* [Pandas](http://pandas.pydata.org/) - tabular data\n",
    "* [Matplotlib](http://matplotlib.org/) - core library for plots\n",
    "* [Seaborn](https://www.scipy.org/) - additional plots\n",
    "* [Scikit-learn](http://scikit-learn.org/) - machine learning"
   ]
  },
  {
   "cell_type": "markdown",
   "metadata": {},
   "source": [
    "### Inline execution"
   ]
  },
  {
   "cell_type": "code",
   "execution_count": null,
   "metadata": {},
   "outputs": [],
   "source": [
    "# click on this cell and press [Shift] + [Enter] to exectue it\n",
    "2 + 2"
   ]
  },
  {
   "cell_type": "code",
   "execution_count": null,
   "metadata": {},
   "outputs": [],
   "source": [
    "# printing inside a cell\n",
    "for i in range(10):\n",
    "    print(i * \"x\")"
   ]
  },
  {
   "cell_type": "markdown",
   "metadata": {},
   "source": [
    "### Markdown blocks\n",
    "\n",
    "[Markdown](https://en.wikipedia.org/wiki/Markdown) is a markup language. It is useful for commenting code - e.g. used in GitHub for `README.md` files.\n",
    "\n",
    "* lists (as this one)\n",
    "* [links](http://jupyter.org/)\n",
    "* *italics*\n",
    "* **bold text**\n",
    "* `code`\n",
    "\n",
    "And even mathematical expressions:\n",
    "\n",
    "$$ e^{i \\pi} + 1 = 0$$\n",
    "\n",
    "Press `[Shift] + [Enter]` to render it all!\n",
    "\n"
   ]
  },
  {
   "cell_type": "markdown",
   "metadata": {},
   "source": [
    "### Command line !, magic %"
   ]
  },
  {
   "cell_type": "code",
   "execution_count": null,
   "metadata": {},
   "outputs": [],
   "source": [
    "# ! for command line - Linux and OS X only\n",
    "!ls"
   ]
  },
  {
   "cell_type": "code",
   "execution_count": null,
   "metadata": {},
   "outputs": [],
   "source": [
    "files = !ls\n",
    "for file in files:\n",
    "    print(file.upper())"
   ]
  },
  {
   "cell_type": "code",
   "execution_count": null,
   "metadata": {},
   "outputs": [],
   "source": [
    "%%time\n",
    "x = 0\n",
    "for i in range(1000000):\n",
    "    x += i"
   ]
  },
  {
   "cell_type": "code",
   "execution_count": null,
   "metadata": {},
   "outputs": [],
   "source": [
    "%%time\n",
    "x = 0\n",
    "for i in range(1000000):\n",
    "    x += (i**2 - i + 3) / (1 + i**2)"
   ]
  },
  {
   "cell_type": "code",
   "execution_count": null,
   "metadata": {},
   "outputs": [],
   "source": [
    "from IPython.display import Image\n",
    "Image(url=\"https://www.python.org/static/community_logos/python-logo-master-v3-TM-flattened.png\")"
   ]
  },
  {
   "cell_type": "code",
   "execution_count": null,
   "metadata": {},
   "outputs": [],
   "source": [
    "# or...\n",
    "Image(url=\"http://imgs.xkcd.com/comics/python.png\")"
   ]
  },
  {
   "cell_type": "markdown",
   "metadata": {},
   "source": [
    "### Autocomplete and help"
   ]
  },
  {
   "cell_type": "code",
   "execution_count": null,
   "metadata": {
    "collapsed": true
   },
   "outputs": [],
   "source": [
    "from numpy import random"
   ]
  },
  {
   "cell_type": "code",
   "execution_count": null,
   "metadata": {},
   "outputs": [],
   "source": [
    "# click after r and press [Tab]\n",
    "random.r"
   ]
  },
  {
   "cell_type": "code",
   "execution_count": null,
   "metadata": {
    "collapsed": true
   },
   "outputs": [],
   "source": [
    "# press [Shift] + [Enter]\n",
    "random.randint?"
   ]
  },
  {
   "cell_type": "code",
   "execution_count": null,
   "metadata": {},
   "outputs": [],
   "source": [
    "random.randint(low=5, high=10)"
   ]
  },
  {
   "cell_type": "markdown",
   "metadata": {},
   "source": [
    "### Numerics and plots"
   ]
  },
  {
   "cell_type": "code",
   "execution_count": null,
   "metadata": {
    "collapsed": true
   },
   "outputs": [],
   "source": [
    "# display plots inline\n",
    "%matplotlib inline\n",
    "\n",
    "# plots\n",
    "import matplotlib.pyplot as plt\n",
    "\n",
    "# numerics\n",
    "import numpy as np"
   ]
  },
  {
   "cell_type": "code",
   "execution_count": null,
   "metadata": {
    "collapsed": true
   },
   "outputs": [],
   "source": [
    "X = np.linspace(-5, 5, num=100)"
   ]
  },
  {
   "cell_type": "code",
   "execution_count": null,
   "metadata": {},
   "outputs": [],
   "source": [
    "X"
   ]
  },
  {
   "cell_type": "code",
   "execution_count": null,
   "metadata": {
    "collapsed": true
   },
   "outputs": [],
   "source": [
    "# sine function of every element of X\n",
    "# vectorized operation - only in NumPy\n",
    "Y = np.sin(X)"
   ]
  },
  {
   "cell_type": "code",
   "execution_count": null,
   "metadata": {},
   "outputs": [],
   "source": [
    "# a simple line plot\n",
    "plt.plot(X, Y)"
   ]
  },
  {
   "cell_type": "code",
   "execution_count": null,
   "metadata": {},
   "outputs": [],
   "source": [
    "# and a point plot\n",
    "plt.plot(X, Y, 'o')"
   ]
  },
  {
   "cell_type": "code",
   "execution_count": null,
   "metadata": {},
   "outputs": [],
   "source": [
    "# more advaned plot\n",
    "plt.plot(X, np.sin(X), label='sine')\n",
    "plt.plot(X, np.cos(X), '--', label='cosine')\n",
    "plt.title('waves')\n",
    "plt.ylabel('height')\n",
    "plt.legend()"
   ]
  },
  {
   "cell_type": "code",
   "execution_count": null,
   "metadata": {},
   "outputs": [],
   "source": [
    "# or some fun, xkcd-way\n",
    "with plt.xkcd():    \n",
    "    plt.plot(X, np.sin(X), label='sine')\n",
    "    plt.plot(X, np.cos(X), '--', label='cosine')\n",
    "    plt.title('waves')\n",
    "    plt.ylabel('height')\n",
    "    plt.legend()"
   ]
  },
  {
   "cell_type": "markdown",
   "metadata": {},
   "source": [
    "## Further reading\n",
    "\n",
    "* [Data Science Introduction: Python](http://p.migdal.pl/2016/03/15/data-science-intro-for-math-phys-background.html#python)\n",
    "* Jupyter Notebook can be used with different languages, see a few examples on [Try Jupyter](https://try.jupyter.org/)\n",
    "* [`ipynb` files are being displayed by GitHub](http://blog.jupyter.org/2015/05/07/rendering-notebooks-on-github/)\n",
    "* [Why xkcd-style graphs are important](https://www.chrisstucchio.com/blog/2014/why_xkcd_style_graphs_are_important.html)"
   ]
  },
  {
   "cell_type": "code",
   "execution_count": null,
   "metadata": {
    "collapsed": true
   },
   "outputs": [],
   "source": []
  }
 ],
 "metadata": {
  "anaconda-cloud": {},
  "kernelspec": {
   "display_name": "Python [default]",
   "language": "python",
   "name": "python3"
  },
  "language_info": {
   "codemirror_mode": {
    "name": "ipython",
    "version": 3
   },
   "file_extension": ".py",
   "mimetype": "text/x-python",
   "name": "python",
   "nbconvert_exporter": "python",
   "pygments_lexer": "ipython3",
   "version": "3.5.3"
  }
 },
 "nbformat": 4,
 "nbformat_minor": 1
}
