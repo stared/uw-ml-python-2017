{
 "cells": [
  {
   "cell_type": "markdown",
   "metadata": {},
   "source": [
    "# Machine Learning in Python\n",
    "\n",
    "by [Piotr Migdał](http://p.migdal.pl/)\n",
    "\n",
    "Inkubator Uniwersytetu Warszawskiego\n",
    "\n",
    "## 0. Jupyter Notebook"
   ]
  },
  {
   "cell_type": "markdown",
   "metadata": {},
   "source": [
    "### Installation\n",
    "\n",
    "* go to [Anaconda](https://www.continuum.io/downloads) and install Python 3.6 (not: 2.7) for your system\n",
    "    * works on Windows, Mac OSX and Linux\n",
    "    * comes with [packages](https://docs.continuum.io/anaconda/pkg-docs) for data science\n",
    "* run `jupyter notebook` from a desired folder (in Windows: run Jupyter Notebook application)\n",
    "* if you require to install additional packages, use `conda install` or `pip install`\n",
    "\n",
    "There are other ways to install Python, but they rarely work the same way on every system (especially with installation of additional packages). Just make sure you install (usually `pip install`):\n",
    "\n",
    "* [Jupyter Notebook](http://jupyter.org/) - this environment\n",
    "* [NumPy](http://www.numpy.org/) - numerical arrays\n",
    "* [SciPy](https://www.scipy.org/) - numerical operations\n",
    "* [Pandas](http://pandas.pydata.org/) - tabular data\n",
    "* [Matplotlib](http://matplotlib.org/) - core library for plots\n",
    "* [Seaborn](https://www.scipy.org/) - additional plots\n",
    "* [Scikit-learn](http://scikit-learn.org/) - machine learning"
   ]
  },
  {
   "cell_type": "markdown",
   "metadata": {},
   "source": [
    "### Inline execution"
   ]
  },
  {
   "cell_type": "code",
   "execution_count": 2,
   "metadata": {},
   "outputs": [
    {
     "data": {
      "text/plain": [
       "646886464866"
      ]
     },
     "execution_count": 2,
     "metadata": {},
     "output_type": "execute_result"
    }
   ],
   "source": [
    "# click on this cell and press [Shift] + [Enter] to exectue it\n",
    "2 + 2 * 323443232432"
   ]
  },
  {
   "cell_type": "code",
   "execution_count": 3,
   "metadata": {},
   "outputs": [
    {
     "data": {
      "text/plain": [
       "526210757932488137333417380055198344320825"
      ]
     },
     "execution_count": 3,
     "metadata": {},
     "output_type": "execute_result"
    }
   ],
   "source": [
    "443534534535434553 * 34345345345345 * 34543345345"
   ]
  },
  {
   "cell_type": "code",
   "execution_count": 4,
   "metadata": {},
   "outputs": [
    {
     "name": "stdout",
     "output_type": "stream",
     "text": [
      "\n",
      "x\n",
      "xx\n",
      "xxx\n",
      "xxxx\n",
      "xxxxx\n",
      "xxxxxx\n",
      "xxxxxxx\n",
      "xxxxxxxx\n",
      "xxxxxxxxx\n"
     ]
    }
   ],
   "source": [
    "# printing inside a cell\n",
    "for i in range(10):\n",
    "    print(i * \"x\")"
   ]
  },
  {
   "cell_type": "markdown",
   "metadata": {},
   "source": [
    "### Markdown blocks\n",
    "\n",
    "[Markdown](https://en.wikipedia.org/wiki/Markdown) is a markup language. It is useful for commenting code - e.g. used in GitHub for `README.md` files.\n",
    "\n",
    "* lists (as this one)\n",
    "* [links](http://jupyter.org/)\n",
    "* *italics*\n",
    "* **bold text**\n",
    "* `code`\n",
    "\n",
    "And even mathematical expressions:\n",
    "\n",
    "$$ e^{i \\pi} + 1 = 0$$\n",
    "\n",
    "Press `[Shift] + [Enter]` to render it all!\n",
    "\n"
   ]
  },
  {
   "cell_type": "markdown",
   "metadata": {},
   "source": [
    "### Command line !, magic %"
   ]
  },
  {
   "cell_type": "code",
   "execution_count": 5,
   "metadata": {},
   "outputs": [
    {
     "name": "stdout",
     "output_type": "stream",
     "text": [
      "0_jupyter_notebook.ipynb             7_random_forest_classification.ipynb\r\n",
      "1_python_basics.ipynb                8_titanic.ipynb\r\n",
      "2_data_exploration.ipynb             README.md\r\n",
      "3_linear_regression.ipynb            \u001b[34mdata\u001b[m\u001b[m\r\n",
      "4_random_forest_regression.ipynb     \u001b[34mexercise\u001b[m\u001b[m\r\n",
      "5_exploration_student_dataset.ipynb  \u001b[34mimgs\u001b[m\u001b[m\r\n",
      "6_logistic_regression.ipynb          \u001b[34mslides\u001b[m\u001b[m\r\n"
     ]
    }
   ],
   "source": [
    "# ! for command line - Linux and OS X only\n",
    "!ls"
   ]
  },
  {
   "cell_type": "code",
   "execution_count": 6,
   "metadata": {},
   "outputs": [
    {
     "name": "stdout",
     "output_type": "stream",
     "text": [
      "0_JUPYTER_NOTEBOOK.IPYNB\n",
      "1_PYTHON_BASICS.IPYNB\n",
      "2_DATA_EXPLORATION.IPYNB\n",
      "3_LINEAR_REGRESSION.IPYNB\n",
      "4_RANDOM_FOREST_REGRESSION.IPYNB\n",
      "5_EXPLORATION_STUDENT_DATASET.IPYNB\n",
      "6_LOGISTIC_REGRESSION.IPYNB\n",
      "7_RANDOM_FOREST_CLASSIFICATION.IPYNB\n",
      "8_TITANIC.IPYNB\n",
      "README.MD\n",
      "DATA\n",
      "EXERCISE\n",
      "IMGS\n",
      "SLIDES\n"
     ]
    }
   ],
   "source": [
    "files = !ls\n",
    "for file in files:\n",
    "    print(file.upper())"
   ]
  },
  {
   "cell_type": "code",
   "execution_count": 7,
   "metadata": {},
   "outputs": [
    {
     "name": "stdout",
     "output_type": "stream",
     "text": [
      "CPU times: user 196 ms, sys: 3.14 ms, total: 199 ms\n",
      "Wall time: 199 ms\n"
     ]
    }
   ],
   "source": [
    "%%time\n",
    "x = 0\n",
    "for i in range(1000000):\n",
    "    x += i"
   ]
  },
  {
   "cell_type": "code",
   "execution_count": 8,
   "metadata": {},
   "outputs": [
    {
     "name": "stdout",
     "output_type": "stream",
     "text": [
      "CPU times: user 1.19 s, sys: 3.09 ms, total: 1.2 s\n",
      "Wall time: 1.2 s\n"
     ]
    }
   ],
   "source": [
    "%%time\n",
    "x = 0\n",
    "for i in range(1000000):\n",
    "    x += (i**2 - i + 3) / (1 + i**2)"
   ]
  },
  {
   "cell_type": "code",
   "execution_count": 9,
   "metadata": {},
   "outputs": [
    {
     "data": {
      "text/html": [
       "<img src=\"https://www.python.org/static/community_logos/python-logo-master-v3-TM-flattened.png\"/>"
      ],
      "text/plain": [
       "<IPython.core.display.Image object>"
      ]
     },
     "execution_count": 9,
     "metadata": {},
     "output_type": "execute_result"
    }
   ],
   "source": [
    "from IPython.display import Image\n",
    "Image(url=\"https://www.python.org/static/community_logos/python-logo-master-v3-TM-flattened.png\")"
   ]
  },
  {
   "cell_type": "code",
   "execution_count": 10,
   "metadata": {},
   "outputs": [
    {
     "data": {
      "text/html": [
       "<img src=\"http://imgs.xkcd.com/comics/python.png\"/>"
      ],
      "text/plain": [
       "<IPython.core.display.Image object>"
      ]
     },
     "execution_count": 10,
     "metadata": {},
     "output_type": "execute_result"
    }
   ],
   "source": [
    "# or...\n",
    "Image(url=\"http://imgs.xkcd.com/comics/python.png\")"
   ]
  },
  {
   "cell_type": "markdown",
   "metadata": {},
   "source": [
    "### Autocomplete and help"
   ]
  },
  {
   "cell_type": "code",
   "execution_count": 11,
   "metadata": {
    "collapsed": true
   },
   "outputs": [],
   "source": [
    "from numpy import random"
   ]
  },
  {
   "cell_type": "code",
   "execution_count": 12,
   "metadata": {},
   "outputs": [
    {
     "data": {
      "text/plain": [
       "0.35453172328220833"
      ]
     },
     "execution_count": 12,
     "metadata": {},
     "output_type": "execute_result"
    }
   ],
   "source": [
    "# click after r and press [Tab]\n",
    "random.randn()"
   ]
  },
  {
   "cell_type": "code",
   "execution_count": 20,
   "metadata": {},
   "outputs": [
    {
     "data": {
      "text/plain": [
       "array([0, 0, 2, 2, 0, 1, 1, 0, 0, 2])"
      ]
     },
     "execution_count": 20,
     "metadata": {},
     "output_type": "execute_result"
    }
   ],
   "source": [
    "# press [Shift] + [Enter]\n",
    "random.randint(0, 3, 10)"
   ]
  },
  {
   "cell_type": "code",
   "execution_count": 21,
   "metadata": {},
   "outputs": [
    {
     "data": {
      "text/plain": [
       "5"
      ]
     },
     "execution_count": 21,
     "metadata": {},
     "output_type": "execute_result"
    }
   ],
   "source": [
    "random.randint(low=5, high=10)"
   ]
  },
  {
   "cell_type": "markdown",
   "metadata": {},
   "source": [
    "### Numerics and plots"
   ]
  },
  {
   "cell_type": "code",
   "execution_count": 22,
   "metadata": {
    "collapsed": true
   },
   "outputs": [],
   "source": [
    "# display plots inline\n",
    "%matplotlib inline\n",
    "\n",
    "# plots\n",
    "import matplotlib.pyplot as plt\n",
    "\n",
    "# numerics\n",
    "import numpy as np"
   ]
  },
  {
   "cell_type": "code",
   "execution_count": 23,
   "metadata": {
    "collapsed": true
   },
   "outputs": [],
   "source": [
    "X = np.linspace(-5, 5, num=100)"
   ]
  },
  {
   "cell_type": "code",
   "execution_count": 24,
   "metadata": {},
   "outputs": [
    {
     "data": {
      "text/plain": [
       "array([-5.        , -4.8989899 , -4.7979798 , -4.6969697 , -4.5959596 ,\n",
       "       -4.49494949, -4.39393939, -4.29292929, -4.19191919, -4.09090909,\n",
       "       -3.98989899, -3.88888889, -3.78787879, -3.68686869, -3.58585859,\n",
       "       -3.48484848, -3.38383838, -3.28282828, -3.18181818, -3.08080808,\n",
       "       -2.97979798, -2.87878788, -2.77777778, -2.67676768, -2.57575758,\n",
       "       -2.47474747, -2.37373737, -2.27272727, -2.17171717, -2.07070707,\n",
       "       -1.96969697, -1.86868687, -1.76767677, -1.66666667, -1.56565657,\n",
       "       -1.46464646, -1.36363636, -1.26262626, -1.16161616, -1.06060606,\n",
       "       -0.95959596, -0.85858586, -0.75757576, -0.65656566, -0.55555556,\n",
       "       -0.45454545, -0.35353535, -0.25252525, -0.15151515, -0.05050505,\n",
       "        0.05050505,  0.15151515,  0.25252525,  0.35353535,  0.45454545,\n",
       "        0.55555556,  0.65656566,  0.75757576,  0.85858586,  0.95959596,\n",
       "        1.06060606,  1.16161616,  1.26262626,  1.36363636,  1.46464646,\n",
       "        1.56565657,  1.66666667,  1.76767677,  1.86868687,  1.96969697,\n",
       "        2.07070707,  2.17171717,  2.27272727,  2.37373737,  2.47474747,\n",
       "        2.57575758,  2.67676768,  2.77777778,  2.87878788,  2.97979798,\n",
       "        3.08080808,  3.18181818,  3.28282828,  3.38383838,  3.48484848,\n",
       "        3.58585859,  3.68686869,  3.78787879,  3.88888889,  3.98989899,\n",
       "        4.09090909,  4.19191919,  4.29292929,  4.39393939,  4.49494949,\n",
       "        4.5959596 ,  4.6969697 ,  4.7979798 ,  4.8989899 ,  5.        ])"
      ]
     },
     "execution_count": 24,
     "metadata": {},
     "output_type": "execute_result"
    }
   ],
   "source": [
    "X"
   ]
  },
  {
   "cell_type": "code",
   "execution_count": 25,
   "metadata": {
    "collapsed": true
   },
   "outputs": [],
   "source": [
    "# sine function of every element of X\n",
    "# vectorized operation - only in NumPy\n",
    "Y = np.sin(X)"
   ]
  },
  {
   "cell_type": "code",
   "execution_count": 28,
   "metadata": {},
   "outputs": [
    {
     "data": {
      "text/plain": [
       "2.6535897933527304e-06"
      ]
     },
     "execution_count": 28,
     "metadata": {},
     "output_type": "execute_result"
    }
   ],
   "source": [
    "np.sin(3.14159)"
   ]
  },
  {
   "cell_type": "code",
   "execution_count": 29,
   "metadata": {},
   "outputs": [
    {
     "data": {
      "text/plain": [
       "[<matplotlib.lines.Line2D at 0x1111419e8>]"
      ]
     },
     "execution_count": 29,
     "metadata": {},
     "output_type": "execute_result"
    },
    {
     "data": {
      "image/png": "[encoded data removed]",
      "text/plain": [
       "<matplotlib.figure.Figure at 0x11106a518>"
      ]
     },
     "metadata": {},
     "output_type": "display_data"
    }
   ],
   "source": [
    "# a simple line plot\n",
    "plt.plot(X, Y)"
   ]
  },
  {
   "cell_type": "code",
   "execution_count": 32,
   "metadata": {},
   "outputs": [
    {
     "data": {
      "text/plain": [
       "[<matplotlib.lines.Line2D at 0x1113a0588>]"
      ]
     },
     "execution_count": 32,
     "metadata": {},
     "output_type": "execute_result"
    },
    {
     "data": {
      "image/png": "[encoded data removed]",
      "text/plain": [
       "<matplotlib.figure.Figure at 0x11134f908>"
      ]
     },
     "metadata": {},
     "output_type": "display_data"
    }
   ],
   "source": [
    "# and a point plot\n",
    "plt.plot(X, Y, 'o')"
   ]
  },
  {
   "cell_type": "code",
   "execution_count": 33,
   "metadata": {},
   "outputs": [
    {
     "data": {
      "text/plain": [
       "<matplotlib.legend.Legend at 0x1114d94a8>"
      ]
     },
     "execution_count": 33,
     "metadata": {},
     "output_type": "execute_result"
    },
    {
     "data": {
      "image/png": "[encoded data removed]",
      "text/plain": [
       "<matplotlib.figure.Figure at 0x111279860>"
      ]
     },
     "metadata": {},
     "output_type": "display_data"
    }
   ],
   "source": [
    "# more advanced plot\n",
    "plt.plot(X, np.sin(X), label='sine')\n",
    "plt.plot(X, np.cos(X), '--', label='cosine')\n",
    "plt.title('waves')\n",
    "plt.ylabel('height')\n",
    "plt.legend()"
   ]
  },
  {
   "cell_type": "code",
   "execution_count": 35,
   "metadata": {},
   "outputs": [
    {
     "data": {
      "image/png": "[encoded data removed]",
      "text/plain": [
       "<matplotlib.figure.Figure at 0x11160c7f0>"
      ]
     },
     "metadata": {},
     "output_type": "display_data"
    }
   ],
   "source": [
    "# or some fun, xkcd-way\n",
    "with plt.xkcd():    \n",
    "    plt.plot(X, np.sin(X), 'r', label='sine')\n",
    "    plt.plot(X, np.cos(X), 'b--', label='cosine')\n",
    "    plt.title('waves')\n",
    "    plt.ylabel('height')\n",
    "    plt.legend()"
   ]
  },
  {
   "cell_type": "markdown",
   "metadata": {},
   "source": [
    "## Further reading\n",
    "\n",
    "* [Data Science Introduction: Python](http://p.migdal.pl/2016/03/15/data-science-intro-for-math-phys-background.html#python)\n",
    "* Jupyter Notebook can be used with different languages, see a few examples on [Try Jupyter](https://try.jupyter.org/)\n",
    "* [`ipynb` files are being displayed by GitHub](http://blog.jupyter.org/2015/05/07/rendering-notebooks-on-github/)\n",
    "* [Why xkcd-style graphs are important](https://www.chrisstucchio.com/blog/2014/why_xkcd_style_graphs_are_important.html)"
   ]
  },
  {
   "cell_type": "code",
   "execution_count": null,
   "metadata": {
    "collapsed": true
   },
   "outputs": [],
   "source": []
  }
 ],
 "metadata": {
  "anaconda-cloud": {},
  "kernelspec": {
   "display_name": "Python [default]",
   "language": "python",
   "name": "python3"
  },
  "language_info": {
   "codemirror_mode": {
    "name": "ipython",
    "version": 3
   },
   "file_extension": ".py",
   "mimetype": "text/x-python",
   "name": "python",
   "nbconvert_exporter": "python",
   "pygments_lexer": "ipython3",
   "version": "3.5.3"
  }
 },
 "nbformat": 4,
 "nbformat_minor": 1
}
