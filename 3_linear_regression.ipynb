{
 "cells": [
  {
   "cell_type": "markdown",
   "metadata": {},
   "source": [
    "# Machine Learning in Python\n",
    "\n",
    "by [Piotr Migdał](http://p.migdal.pl/)\n",
    "\n",
    "Inkubator Uniwersytetu Warszawskiego\n",
    "\n",
    "## 3.  Linear regression"
   ]
  },
  {
   "cell_type": "code",
   "execution_count": null,
   "metadata": {
    "collapsed": true
   },
   "outputs": [],
   "source": [
    "import numpy as np\n",
    "import matplotlib.pyplot as plt\n",
    "import pandas as pd\n",
    "import seaborn as sns\n",
    "\n",
    "%matplotlib inline"
   ]
  },
  {
   "cell_type": "markdown",
   "metadata": {},
   "source": [
    "## Bicycles data"
   ]
  },
  {
   "cell_type": "markdown",
   "metadata": {},
   "source": [
    "This dataset shows number of bikes present at several streets in Warsaw, together with weather data.\n",
    "\n",
    "source:\n",
    "\n",
    "- Monika Pawłowska (code: https://github.com/pawlowska/shiny-server)\n",
    "\n",
    "- original source: http://rowery.um.warszawa.pl/pomiary-ruchu-rowerowego"
   ]
  },
  {
   "cell_type": "code",
   "execution_count": null,
   "metadata": {},
   "outputs": [],
   "source": [
    "bicycles_weather_data = pd.read_csv(\"data/dane_zsumowane_z_pogoda.csv\", index_col=0)"
   ]
  },
  {
   "cell_type": "code",
   "execution_count": null,
   "metadata": {},
   "outputs": [],
   "source": [
    "bicycles_weather_data.head()"
   ]
  },
  {
   "cell_type": "code",
   "execution_count": null,
   "metadata": {},
   "outputs": [],
   "source": [
    "bicycles_weather_data.describe()"
   ]
  },
  {
   "cell_type": "markdown",
   "metadata": {
    "collapsed": true
   },
   "source": [
    "## Linear regression"
   ]
  },
  {
   "cell_type": "markdown",
   "metadata": {},
   "source": [
    "Linear regression is modelling linear relationship between dependent variable y and one or more explanatory variables X. The case of one explanatory variable is called **simple linear regression**. For more than one explanatory variable, the process is called **multiple linear regression**.\n",
    "\n",
    "$$\n",
    "y = a x + b\n",
    "$$"
   ]
  },
  {
   "cell_type": "markdown",
   "metadata": {},
   "source": [
    "![\"xkcd\"](https://imgs.xkcd.com/comics/linear_regression.png)"
   ]
  },
  {
   "cell_type": "markdown",
   "metadata": {},
   "source": [
    "Analyticas solutions exist:\n",
    "\n",
    "- [Ordinary least squares](https://en.wikipedia.org/wiki/Ordinary_least_squares)\n",
    "\n",
    "- [Ridge regression](https://en.wikipedia.org/wiki/Ridge_regression)\n",
    "\n",
    "but are not always very efficient!"
   ]
  },
  {
   "cell_type": "markdown",
   "metadata": {},
   "source": [
    "Correlation:"
   ]
  },
  {
   "cell_type": "markdown",
   "metadata": {},
   "source": [
    "![\"source: wikipedia.org\"](https://upload.wikimedia.org/wikipedia/commons/d/d4/Correlation_examples2.svg)"
   ]
  },
  {
   "cell_type": "markdown",
   "metadata": {},
   "source": [
    "Materials:\n",
    "\n",
    " - https://en.wikipedia.org/wiki/Linear_regression\n",
    " \n",
    " - http://setosa.io/ev/ordinary-least-squares-regression\n",
    " \n",
    " - http://onlinestatbook.com/2/regression/intro.html\n",
    " \n",
    " - https://www.youtube.com/watch?v=KsVBBJRb9TE\n",
    " \n"
   ]
  },
  {
   "cell_type": "code",
   "execution_count": null,
   "metadata": {},
   "outputs": [],
   "source": [
    "bicycles_weather_data.plot(x='temp_avg', y=['Marszałkowska', 'Banacha', 'Wysockiego'], style='o', figsize=(7,8))\n",
    "plt.xlim([-20,25])"
   ]
  },
  {
   "cell_type": "markdown",
   "metadata": {},
   "source": [
    "Scikit learn documentation:\n",
    "\n",
    "- http://scikit-learn.org/stable/modules/generated/sklearn.linear_model.LinearRegression.html\n",
    "\n",
    "- http://scikit-learn.org/stable/auto_examples/linear_model/plot_ols.html"
   ]
  },
  {
   "cell_type": "code",
   "execution_count": null,
   "metadata": {
    "collapsed": true
   },
   "outputs": [],
   "source": [
    "from sklearn.linear_model import LinearRegression"
   ]
  },
  {
   "cell_type": "markdown",
   "metadata": {},
   "source": [
    "We make a linear regression object."
   ]
  },
  {
   "cell_type": "code",
   "execution_count": null,
   "metadata": {
    "collapsed": true
   },
   "outputs": [],
   "source": [
    "linreg = LinearRegression()"
   ]
  },
  {
   "cell_type": "code",
   "execution_count": null,
   "metadata": {
    "collapsed": true
   },
   "outputs": [],
   "source": [
    "street = 'Banacha'\n",
    "bicycles_weather_subset = bicycles_weather_data[['temp_avg', street]]\n",
    "bicycles_weather_subset = bicycles_weather_subset.dropna()"
   ]
  },
  {
   "cell_type": "code",
   "execution_count": null,
   "metadata": {},
   "outputs": [],
   "source": [
    "bicycles_weather_subset.plot()"
   ]
  },
  {
   "cell_type": "code",
   "execution_count": null,
   "metadata": {},
   "outputs": [],
   "source": [
    "X = bicycles_weather_subset[['temp_avg']]  # a DataFrame, not a Series\n",
    "y = bicycles_weather_subset[street]\n",
    "linreg.fit(X, y)\n",
    "\n",
    "print(\"Mean squared error: {:.1f}\".format(np.sqrt(np.mean((linreg.predict(X) - y) ** 2))))"
   ]
  },
  {
   "cell_type": "code",
   "execution_count": null,
   "metadata": {},
   "outputs": [],
   "source": [
    "linreg.intercept_"
   ]
  },
  {
   "cell_type": "code",
   "execution_count": null,
   "metadata": {},
   "outputs": [],
   "source": [
    "linreg.coef_"
   ]
  },
  {
   "cell_type": "markdown",
   "metadata": {},
   "source": [
    "See more: [Root-mean-square error (RMSE)](https://en.wikipedia.org/wiki/Root-mean-square_deviation)"
   ]
  },
  {
   "cell_type": "markdown",
   "metadata": {},
   "source": [
    "We can plot our predicted curve."
   ]
  },
  {
   "cell_type": "code",
   "execution_count": null,
   "metadata": {},
   "outputs": [],
   "source": [
    "bicycles_weather_data.plot(x='temp_avg', y=street, style='o', figsize=(7,8))\n",
    "plt.plot(X['temp_avg'], linreg.predict(X), color='k', linewidth=3)\n",
    "plt.xlim([-10,20])"
   ]
  },
  {
   "cell_type": "code",
   "execution_count": null,
   "metadata": {},
   "outputs": [],
   "source": [
    "coefficients = pd.Series(linreg.coef_, index=['temp_avg']).plot(kind='barh')"
   ]
  },
  {
   "cell_type": "markdown",
   "metadata": {},
   "source": [
    "### Exercises"
   ]
  },
  {
   "cell_type": "markdown",
   "metadata": {},
   "source": [
    "* Add other paremeters (`deszcz`, `snieg`, etc)\n",
    "* Find in the dataset a street which closest to yours living / working place and perform linear regression.\n",
    "* Extra: scale variables by `np.sqrt` or `np.log`"
   ]
  },
  {
   "cell_type": "code",
   "execution_count": null,
   "metadata": {
    "collapsed": true
   },
   "outputs": [],
   "source": []
  }
 ],
 "metadata": {
  "anaconda-cloud": {},
  "kernelspec": {
   "display_name": "Python [default]",
   "language": "python",
   "name": "python3"
  },
  "language_info": {
   "codemirror_mode": {
    "name": "ipython",
    "version": 3
   },
   "file_extension": ".py",
   "mimetype": "text/x-python",
   "name": "python",
   "nbconvert_exporter": "python",
   "pygments_lexer": "ipython3",
   "version": "3.5.3"
  }
 },
 "nbformat": 4,
 "nbformat_minor": 1
}
