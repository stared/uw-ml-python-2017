{
 "cells": [
  {
   "cell_type": "markdown",
   "metadata": {},
   "source": [
    "# Machine Learning in Python\n",
    "\n",
    "by [Piotr Migdał](http://p.migdal.pl/) & [Dominik Krzemiński](https://github.com/dokato/)\n",
    "\n",
    "for El Passion, 2017\n",
    "\n",
    "## 3.  Linear regression"
   ]
  },
  {
   "cell_type": "code",
   "execution_count": 28,
   "metadata": {
    "collapsed": true
   },
   "outputs": [],
   "source": [
    "import numpy as np\n",
    "import matplotlib.pyplot as plt\n",
    "import pandas as pd\n",
    "import seaborn as sns\n",
    "plt.style.use('ggplot')\n",
    "\n",
    "%matplotlib inline"
   ]
  },
  {
   "cell_type": "markdown",
   "metadata": {},
   "source": [
    "## Bicycles data"
   ]
  },
  {
   "cell_type": "markdown",
   "metadata": {},
   "source": [
    "Let's read the data from csv files."
   ]
  },
  {
   "cell_type": "code",
   "execution_count": 29,
   "metadata": {
    "collapsed": false
   },
   "outputs": [],
   "source": [
    "# first parameter is name of the file with data\n",
    "# next we specify delimiter, it can be either comma, semicolon, sometimes tab\n",
    "# very often we need to cope with missing data, here we denote it by \"NA\"\n",
    "# if the data is already enumerated pandas doesn't need to double the job\n",
    "bicycles_data = pd.read_csv(\"data/warsaw-bicycles.csv\", delimiter=\",\", na_values=\"NA\", index_col=0)\n",
    "weather_data = pd.read_csv(\"data/weather.csv\", delimiter=\",\", na_values=\"NA\", index_col=0)"
   ]
  },
  {
   "cell_type": "code",
   "execution_count": 30,
   "metadata": {
    "collapsed": false
   },
   "outputs": [
    {
     "data": {
      "text/html": [
       "<div>\n",
       "<table border=\"1\" class=\"dataframe\">\n",
       "  <thead>\n",
       "    <tr style=\"text-align: right;\">\n",
       "      <th></th>\n",
       "      <th>Data</th>\n",
       "      <th>startTyg</th>\n",
       "      <th>startM</th>\n",
       "      <th>Al. USA - południe</th>\n",
       "      <th>Al. USA - północ</th>\n",
       "      <th>Banacha</th>\n",
       "      <th>Bazyliańska</th>\n",
       "      <th>Belwederska</th>\n",
       "      <th>Dworzec Wilenski (al. Solidarności)</th>\n",
       "      <th>Dworzec Wileński Nowy( Targowa)</th>\n",
       "      <th>...</th>\n",
       "      <th>Most Gdański - ciąg pieszo-rowerowy</th>\n",
       "      <th>NSR - Solec - ciąg pieszo-rowerowy</th>\n",
       "      <th>NSR-Solec - ścieżka rowerowa</th>\n",
       "      <th>Rowery (Praska ścieżka rekreacyjna)</th>\n",
       "      <th>Wybrzeże Helskie</th>\n",
       "      <th>Wysockiego</th>\n",
       "      <th>Świętokrzyska - Emilii Plater, płd</th>\n",
       "      <th>Świętokrzyska - Emilii Plater, płn</th>\n",
       "      <th>Żwirki i Wigury/Trojdena1</th>\n",
       "      <th>Żwirki i Wigury/Trojdena2</th>\n",
       "    </tr>\n",
       "  </thead>\n",
       "  <tbody>\n",
       "    <tr>\n",
       "      <th>1</th>\n",
       "      <td>2014-08-01</td>\n",
       "      <td>2014-07-28</td>\n",
       "      <td>2014-08-01</td>\n",
       "      <td>NaN</td>\n",
       "      <td>NaN</td>\n",
       "      <td>NaN</td>\n",
       "      <td>NaN</td>\n",
       "      <td>NaN</td>\n",
       "      <td>NaN</td>\n",
       "      <td>NaN</td>\n",
       "      <td>...</td>\n",
       "      <td>NaN</td>\n",
       "      <td>NaN</td>\n",
       "      <td>NaN</td>\n",
       "      <td>NaN</td>\n",
       "      <td>NaN</td>\n",
       "      <td>NaN</td>\n",
       "      <td>NaN</td>\n",
       "      <td>NaN</td>\n",
       "      <td>NaN</td>\n",
       "      <td>NaN</td>\n",
       "    </tr>\n",
       "    <tr>\n",
       "      <th>2</th>\n",
       "      <td>2014-08-02</td>\n",
       "      <td>2014-07-28</td>\n",
       "      <td>2014-08-01</td>\n",
       "      <td>NaN</td>\n",
       "      <td>NaN</td>\n",
       "      <td>NaN</td>\n",
       "      <td>NaN</td>\n",
       "      <td>NaN</td>\n",
       "      <td>NaN</td>\n",
       "      <td>NaN</td>\n",
       "      <td>...</td>\n",
       "      <td>NaN</td>\n",
       "      <td>NaN</td>\n",
       "      <td>NaN</td>\n",
       "      <td>NaN</td>\n",
       "      <td>NaN</td>\n",
       "      <td>NaN</td>\n",
       "      <td>NaN</td>\n",
       "      <td>NaN</td>\n",
       "      <td>NaN</td>\n",
       "      <td>NaN</td>\n",
       "    </tr>\n",
       "    <tr>\n",
       "      <th>3</th>\n",
       "      <td>2014-08-03</td>\n",
       "      <td>2014-07-28</td>\n",
       "      <td>2014-08-01</td>\n",
       "      <td>NaN</td>\n",
       "      <td>NaN</td>\n",
       "      <td>NaN</td>\n",
       "      <td>NaN</td>\n",
       "      <td>NaN</td>\n",
       "      <td>NaN</td>\n",
       "      <td>NaN</td>\n",
       "      <td>...</td>\n",
       "      <td>NaN</td>\n",
       "      <td>NaN</td>\n",
       "      <td>NaN</td>\n",
       "      <td>NaN</td>\n",
       "      <td>NaN</td>\n",
       "      <td>NaN</td>\n",
       "      <td>NaN</td>\n",
       "      <td>NaN</td>\n",
       "      <td>NaN</td>\n",
       "      <td>NaN</td>\n",
       "    </tr>\n",
       "    <tr>\n",
       "      <th>4</th>\n",
       "      <td>2014-08-04</td>\n",
       "      <td>2014-08-04</td>\n",
       "      <td>2014-08-01</td>\n",
       "      <td>NaN</td>\n",
       "      <td>NaN</td>\n",
       "      <td>NaN</td>\n",
       "      <td>NaN</td>\n",
       "      <td>NaN</td>\n",
       "      <td>NaN</td>\n",
       "      <td>NaN</td>\n",
       "      <td>...</td>\n",
       "      <td>NaN</td>\n",
       "      <td>NaN</td>\n",
       "      <td>NaN</td>\n",
       "      <td>NaN</td>\n",
       "      <td>NaN</td>\n",
       "      <td>NaN</td>\n",
       "      <td>NaN</td>\n",
       "      <td>NaN</td>\n",
       "      <td>NaN</td>\n",
       "      <td>NaN</td>\n",
       "    </tr>\n",
       "    <tr>\n",
       "      <th>5</th>\n",
       "      <td>2014-08-05</td>\n",
       "      <td>2014-08-04</td>\n",
       "      <td>2014-08-01</td>\n",
       "      <td>NaN</td>\n",
       "      <td>NaN</td>\n",
       "      <td>NaN</td>\n",
       "      <td>NaN</td>\n",
       "      <td>NaN</td>\n",
       "      <td>NaN</td>\n",
       "      <td>NaN</td>\n",
       "      <td>...</td>\n",
       "      <td>NaN</td>\n",
       "      <td>NaN</td>\n",
       "      <td>NaN</td>\n",
       "      <td>NaN</td>\n",
       "      <td>NaN</td>\n",
       "      <td>NaN</td>\n",
       "      <td>NaN</td>\n",
       "      <td>NaN</td>\n",
       "      <td>NaN</td>\n",
       "      <td>NaN</td>\n",
       "    </tr>\n",
       "  </tbody>\n",
       "</table>\n",
       "<p>5 rows × 22 columns</p>\n",
       "</div>"
      ],
      "text/plain": [
       "         Data    startTyg      startM  Al. USA - południe  Al. USA - północ  \\\n",
       "1  2014-08-01  2014-07-28  2014-08-01                 NaN               NaN   \n",
       "2  2014-08-02  2014-07-28  2014-08-01                 NaN               NaN   \n",
       "3  2014-08-03  2014-07-28  2014-08-01                 NaN               NaN   \n",
       "4  2014-08-04  2014-08-04  2014-08-01                 NaN               NaN   \n",
       "5  2014-08-05  2014-08-04  2014-08-01                 NaN               NaN   \n",
       "\n",
       "   Banacha  Bazyliańska  Belwederska  Dworzec Wilenski (al. Solidarności)  \\\n",
       "1      NaN          NaN          NaN                                  NaN   \n",
       "2      NaN          NaN          NaN                                  NaN   \n",
       "3      NaN          NaN          NaN                                  NaN   \n",
       "4      NaN          NaN          NaN                                  NaN   \n",
       "5      NaN          NaN          NaN                                  NaN   \n",
       "\n",
       "   Dworzec Wileński Nowy( Targowa)            ...              \\\n",
       "1                              NaN            ...               \n",
       "2                              NaN            ...               \n",
       "3                              NaN            ...               \n",
       "4                              NaN            ...               \n",
       "5                              NaN            ...               \n",
       "\n",
       "   Most Gdański - ciąg pieszo-rowerowy  NSR - Solec - ciąg pieszo-rowerowy  \\\n",
       "1                                  NaN                                 NaN   \n",
       "2                                  NaN                                 NaN   \n",
       "3                                  NaN                                 NaN   \n",
       "4                                  NaN                                 NaN   \n",
       "5                                  NaN                                 NaN   \n",
       "\n",
       "   NSR-Solec - ścieżka rowerowa  Rowery (Praska ścieżka rekreacyjna)  \\\n",
       "1                           NaN                                  NaN   \n",
       "2                           NaN                                  NaN   \n",
       "3                           NaN                                  NaN   \n",
       "4                           NaN                                  NaN   \n",
       "5                           NaN                                  NaN   \n",
       "\n",
       "   Wybrzeże Helskie  Wysockiego  Świętokrzyska - Emilii Plater, płd  \\\n",
       "1               NaN         NaN                                 NaN   \n",
       "2               NaN         NaN                                 NaN   \n",
       "3               NaN         NaN                                 NaN   \n",
       "4               NaN         NaN                                 NaN   \n",
       "5               NaN         NaN                                 NaN   \n",
       "\n",
       "   Świętokrzyska - Emilii Plater, płn  Żwirki i Wigury/Trojdena1  \\\n",
       "1                                 NaN                        NaN   \n",
       "2                                 NaN                        NaN   \n",
       "3                                 NaN                        NaN   \n",
       "4                                 NaN                        NaN   \n",
       "5                                 NaN                        NaN   \n",
       "\n",
       "   Żwirki i Wigury/Trojdena2  \n",
       "1                        NaN  \n",
       "2                        NaN  \n",
       "3                        NaN  \n",
       "4                        NaN  \n",
       "5                        NaN  \n",
       "\n",
       "[5 rows x 22 columns]"
      ]
     },
     "execution_count": 30,
     "metadata": {},
     "output_type": "execute_result"
    }
   ],
   "source": [
    "bicycles_data.head()"
   ]
  },
  {
   "cell_type": "markdown",
   "metadata": {},
   "source": [
    "Description method provides simple statistics for each quantitative column."
   ]
  },
  {
   "cell_type": "code",
   "execution_count": 31,
   "metadata": {
    "collapsed": false
   },
   "outputs": [
    {
     "data": {
      "text/html": [
       "<div>\n",
       "<table border=\"1\" class=\"dataframe\">\n",
       "  <thead>\n",
       "    <tr style=\"text-align: right;\">\n",
       "      <th></th>\n",
       "      <th>Al. USA - południe</th>\n",
       "      <th>Al. USA - północ</th>\n",
       "      <th>Banacha</th>\n",
       "      <th>Bazyliańska</th>\n",
       "      <th>Belwederska</th>\n",
       "      <th>Dworzec Wilenski (al. Solidarności)</th>\n",
       "      <th>Dworzec Wileński Nowy( Targowa)</th>\n",
       "      <th>Marszałkowska</th>\n",
       "      <th>Most Gdanski - ścieżka rowerowa</th>\n",
       "      <th>Most Gdański - ciąg pieszo-rowerowy</th>\n",
       "      <th>NSR - Solec - ciąg pieszo-rowerowy</th>\n",
       "      <th>NSR-Solec - ścieżka rowerowa</th>\n",
       "      <th>Rowery (Praska ścieżka rekreacyjna)</th>\n",
       "      <th>Wybrzeże Helskie</th>\n",
       "      <th>Wysockiego</th>\n",
       "      <th>Świętokrzyska - Emilii Plater, płd</th>\n",
       "      <th>Świętokrzyska - Emilii Plater, płn</th>\n",
       "      <th>Żwirki i Wigury/Trojdena1</th>\n",
       "      <th>Żwirki i Wigury/Trojdena2</th>\n",
       "    </tr>\n",
       "  </thead>\n",
       "  <tbody>\n",
       "    <tr>\n",
       "      <th>count</th>\n",
       "      <td>405.000000</td>\n",
       "      <td>405.000000</td>\n",
       "      <td>607.000000</td>\n",
       "      <td>776.000000</td>\n",
       "      <td>413.000000</td>\n",
       "      <td>605.000000</td>\n",
       "      <td>592.000000</td>\n",
       "      <td>483.000000</td>\n",
       "      <td>897.000000</td>\n",
       "      <td>897.000000</td>\n",
       "      <td>897.000000</td>\n",
       "      <td>897.000000</td>\n",
       "      <td>391.000000</td>\n",
       "      <td>778.000000</td>\n",
       "      <td>779.000000</td>\n",
       "      <td>483.000000</td>\n",
       "      <td>483.000000</td>\n",
       "      <td>266.000000</td>\n",
       "      <td>266.000000</td>\n",
       "    </tr>\n",
       "    <tr>\n",
       "      <th>mean</th>\n",
       "      <td>388.575309</td>\n",
       "      <td>218.669136</td>\n",
       "      <td>1847.044481</td>\n",
       "      <td>108.515464</td>\n",
       "      <td>724.341404</td>\n",
       "      <td>812.009917</td>\n",
       "      <td>690.229730</td>\n",
       "      <td>547.654244</td>\n",
       "      <td>912.016722</td>\n",
       "      <td>499.987737</td>\n",
       "      <td>401.633222</td>\n",
       "      <td>729.855072</td>\n",
       "      <td>316.902813</td>\n",
       "      <td>1216.931877</td>\n",
       "      <td>194.169448</td>\n",
       "      <td>1106.252588</td>\n",
       "      <td>801.231884</td>\n",
       "      <td>1134.736842</td>\n",
       "      <td>271.657895</td>\n",
       "    </tr>\n",
       "    <tr>\n",
       "      <th>std</th>\n",
       "      <td>389.422443</td>\n",
       "      <td>225.109938</td>\n",
       "      <td>1369.713248</td>\n",
       "      <td>103.819532</td>\n",
       "      <td>646.652453</td>\n",
       "      <td>633.992398</td>\n",
       "      <td>516.540766</td>\n",
       "      <td>493.600262</td>\n",
       "      <td>929.682217</td>\n",
       "      <td>657.628789</td>\n",
       "      <td>496.925377</td>\n",
       "      <td>777.002525</td>\n",
       "      <td>432.642264</td>\n",
       "      <td>1079.877592</td>\n",
       "      <td>187.863018</td>\n",
       "      <td>1046.981693</td>\n",
       "      <td>747.282929</td>\n",
       "      <td>833.225733</td>\n",
       "      <td>195.671653</td>\n",
       "    </tr>\n",
       "    <tr>\n",
       "      <th>min</th>\n",
       "      <td>0.000000</td>\n",
       "      <td>0.000000</td>\n",
       "      <td>28.000000</td>\n",
       "      <td>0.000000</td>\n",
       "      <td>3.000000</td>\n",
       "      <td>27.000000</td>\n",
       "      <td>0.000000</td>\n",
       "      <td>0.000000</td>\n",
       "      <td>6.000000</td>\n",
       "      <td>0.000000</td>\n",
       "      <td>1.000000</td>\n",
       "      <td>2.000000</td>\n",
       "      <td>0.000000</td>\n",
       "      <td>27.000000</td>\n",
       "      <td>0.000000</td>\n",
       "      <td>0.000000</td>\n",
       "      <td>0.000000</td>\n",
       "      <td>16.000000</td>\n",
       "      <td>0.000000</td>\n",
       "    </tr>\n",
       "    <tr>\n",
       "      <th>25%</th>\n",
       "      <td>55.000000</td>\n",
       "      <td>22.000000</td>\n",
       "      <td>580.500000</td>\n",
       "      <td>19.000000</td>\n",
       "      <td>164.000000</td>\n",
       "      <td>218.000000</td>\n",
       "      <td>201.000000</td>\n",
       "      <td>149.500000</td>\n",
       "      <td>200.000000</td>\n",
       "      <td>53.000000</td>\n",
       "      <td>52.000000</td>\n",
       "      <td>136.000000</td>\n",
       "      <td>24.000000</td>\n",
       "      <td>279.250000</td>\n",
       "      <td>42.000000</td>\n",
       "      <td>274.000000</td>\n",
       "      <td>194.000000</td>\n",
       "      <td>299.500000</td>\n",
       "      <td>85.250000</td>\n",
       "    </tr>\n",
       "    <tr>\n",
       "      <th>50%</th>\n",
       "      <td>180.000000</td>\n",
       "      <td>98.000000</td>\n",
       "      <td>1522.000000</td>\n",
       "      <td>62.500000</td>\n",
       "      <td>399.000000</td>\n",
       "      <td>630.000000</td>\n",
       "      <td>634.500000</td>\n",
       "      <td>342.000000</td>\n",
       "      <td>500.000000</td>\n",
       "      <td>183.000000</td>\n",
       "      <td>173.000000</td>\n",
       "      <td>354.000000</td>\n",
       "      <td>135.000000</td>\n",
       "      <td>743.500000</td>\n",
       "      <td>126.000000</td>\n",
       "      <td>636.000000</td>\n",
       "      <td>499.000000</td>\n",
       "      <td>1035.000000</td>\n",
       "      <td>263.000000</td>\n",
       "    </tr>\n",
       "    <tr>\n",
       "      <th>75%</th>\n",
       "      <td>729.000000</td>\n",
       "      <td>400.000000</td>\n",
       "      <td>2942.500000</td>\n",
       "      <td>189.500000</td>\n",
       "      <td>1297.000000</td>\n",
       "      <td>1405.000000</td>\n",
       "      <td>1206.500000</td>\n",
       "      <td>944.000000</td>\n",
       "      <td>1511.000000</td>\n",
       "      <td>718.000000</td>\n",
       "      <td>632.000000</td>\n",
       "      <td>1227.000000</td>\n",
       "      <td>455.000000</td>\n",
       "      <td>2176.000000</td>\n",
       "      <td>326.500000</td>\n",
       "      <td>1925.000000</td>\n",
       "      <td>1368.500000</td>\n",
       "      <td>1846.250000</td>\n",
       "      <td>452.000000</td>\n",
       "    </tr>\n",
       "    <tr>\n",
       "      <th>max</th>\n",
       "      <td>1537.000000</td>\n",
       "      <td>932.000000</td>\n",
       "      <td>5123.000000</td>\n",
       "      <td>435.000000</td>\n",
       "      <td>2299.000000</td>\n",
       "      <td>2199.000000</td>\n",
       "      <td>1732.000000</td>\n",
       "      <td>1864.000000</td>\n",
       "      <td>5285.000000</td>\n",
       "      <td>3916.000000</td>\n",
       "      <td>3443.000000</td>\n",
       "      <td>3859.000000</td>\n",
       "      <td>2644.000000</td>\n",
       "      <td>4512.000000</td>\n",
       "      <td>1026.000000</td>\n",
       "      <td>3681.000000</td>\n",
       "      <td>2589.000000</td>\n",
       "      <td>2880.000000</td>\n",
       "      <td>665.000000</td>\n",
       "    </tr>\n",
       "  </tbody>\n",
       "</table>\n",
       "</div>"
      ],
      "text/plain": [
       "       Al. USA - południe  Al. USA - północ      Banacha  Bazyliańska  \\\n",
       "count          405.000000        405.000000   607.000000   776.000000   \n",
       "mean           388.575309        218.669136  1847.044481   108.515464   \n",
       "std            389.422443        225.109938  1369.713248   103.819532   \n",
       "min              0.000000          0.000000    28.000000     0.000000   \n",
       "25%             55.000000         22.000000   580.500000    19.000000   \n",
       "50%            180.000000         98.000000  1522.000000    62.500000   \n",
       "75%            729.000000        400.000000  2942.500000   189.500000   \n",
       "max           1537.000000        932.000000  5123.000000   435.000000   \n",
       "\n",
       "       Belwederska  Dworzec Wilenski (al. Solidarności)  \\\n",
       "count   413.000000                           605.000000   \n",
       "mean    724.341404                           812.009917   \n",
       "std     646.652453                           633.992398   \n",
       "min       3.000000                            27.000000   \n",
       "25%     164.000000                           218.000000   \n",
       "50%     399.000000                           630.000000   \n",
       "75%    1297.000000                          1405.000000   \n",
       "max    2299.000000                          2199.000000   \n",
       "\n",
       "       Dworzec Wileński Nowy( Targowa)  Marszałkowska  \\\n",
       "count                       592.000000     483.000000   \n",
       "mean                        690.229730     547.654244   \n",
       "std                         516.540766     493.600262   \n",
       "min                           0.000000       0.000000   \n",
       "25%                         201.000000     149.500000   \n",
       "50%                         634.500000     342.000000   \n",
       "75%                        1206.500000     944.000000   \n",
       "max                        1732.000000    1864.000000   \n",
       "\n",
       "       Most Gdanski - ścieżka rowerowa  Most Gdański - ciąg pieszo-rowerowy  \\\n",
       "count                       897.000000                           897.000000   \n",
       "mean                        912.016722                           499.987737   \n",
       "std                         929.682217                           657.628789   \n",
       "min                           6.000000                             0.000000   \n",
       "25%                         200.000000                            53.000000   \n",
       "50%                         500.000000                           183.000000   \n",
       "75%                        1511.000000                           718.000000   \n",
       "max                        5285.000000                          3916.000000   \n",
       "\n",
       "       NSR - Solec - ciąg pieszo-rowerowy  NSR-Solec - ścieżka rowerowa  \\\n",
       "count                          897.000000                    897.000000   \n",
       "mean                           401.633222                    729.855072   \n",
       "std                            496.925377                    777.002525   \n",
       "min                              1.000000                      2.000000   \n",
       "25%                             52.000000                    136.000000   \n",
       "50%                            173.000000                    354.000000   \n",
       "75%                            632.000000                   1227.000000   \n",
       "max                           3443.000000                   3859.000000   \n",
       "\n",
       "       Rowery (Praska ścieżka rekreacyjna)  Wybrzeże Helskie   Wysockiego  \\\n",
       "count                           391.000000        778.000000   779.000000   \n",
       "mean                            316.902813       1216.931877   194.169448   \n",
       "std                             432.642264       1079.877592   187.863018   \n",
       "min                               0.000000         27.000000     0.000000   \n",
       "25%                              24.000000        279.250000    42.000000   \n",
       "50%                             135.000000        743.500000   126.000000   \n",
       "75%                             455.000000       2176.000000   326.500000   \n",
       "max                            2644.000000       4512.000000  1026.000000   \n",
       "\n",
       "       Świętokrzyska - Emilii Plater, płd  Świętokrzyska - Emilii Plater, płn  \\\n",
       "count                          483.000000                          483.000000   \n",
       "mean                          1106.252588                          801.231884   \n",
       "std                           1046.981693                          747.282929   \n",
       "min                              0.000000                            0.000000   \n",
       "25%                            274.000000                          194.000000   \n",
       "50%                            636.000000                          499.000000   \n",
       "75%                           1925.000000                         1368.500000   \n",
       "max                           3681.000000                         2589.000000   \n",
       "\n",
       "       Żwirki i Wigury/Trojdena1  Żwirki i Wigury/Trojdena2  \n",
       "count                 266.000000                 266.000000  \n",
       "mean                 1134.736842                 271.657895  \n",
       "std                   833.225733                 195.671653  \n",
       "min                    16.000000                   0.000000  \n",
       "25%                   299.500000                  85.250000  \n",
       "50%                  1035.000000                 263.000000  \n",
       "75%                  1846.250000                 452.000000  \n",
       "max                  2880.000000                 665.000000  "
      ]
     },
     "execution_count": 31,
     "metadata": {},
     "output_type": "execute_result"
    }
   ],
   "source": [
    "bicycles_data.describe()"
   ]
  },
  {
   "cell_type": "markdown",
   "metadata": {},
   "source": [
    "Now we take a look in a similar way at the weather dataset."
   ]
  },
  {
   "cell_type": "code",
   "execution_count": 32,
   "metadata": {
    "collapsed": false
   },
   "outputs": [
    {
     "data": {
      "text/html": [
       "<div>\n",
       "<table border=\"1\" class=\"dataframe\">\n",
       "  <thead>\n",
       "    <tr style=\"text-align: right;\">\n",
       "      <th></th>\n",
       "      <th>date</th>\n",
       "      <th>value</th>\n",
       "      <th>state</th>\n",
       "    </tr>\n",
       "  </thead>\n",
       "  <tbody>\n",
       "    <tr>\n",
       "      <th>1</th>\n",
       "      <td>2014-07-28 00:00:00</td>\n",
       "      <td>18.9</td>\n",
       "      <td>0</td>\n",
       "    </tr>\n",
       "    <tr>\n",
       "      <th>2</th>\n",
       "      <td>2014-07-29 00:00:00</td>\n",
       "      <td>18.7</td>\n",
       "      <td>0</td>\n",
       "    </tr>\n",
       "    <tr>\n",
       "      <th>3</th>\n",
       "      <td>2014-07-30 00:00:00</td>\n",
       "      <td>18.3</td>\n",
       "      <td>0</td>\n",
       "    </tr>\n",
       "    <tr>\n",
       "      <th>4</th>\n",
       "      <td>2014-07-31 00:00:00</td>\n",
       "      <td>19.3</td>\n",
       "      <td>0</td>\n",
       "    </tr>\n",
       "    <tr>\n",
       "      <th>5</th>\n",
       "      <td>2014-08-01 00:00:00</td>\n",
       "      <td>19.9</td>\n",
       "      <td>0</td>\n",
       "    </tr>\n",
       "  </tbody>\n",
       "</table>\n",
       "</div>"
      ],
      "text/plain": [
       "                  date  value  state\n",
       "1  2014-07-28 00:00:00   18.9      0\n",
       "2  2014-07-29 00:00:00   18.7      0\n",
       "3  2014-07-30 00:00:00   18.3      0\n",
       "4  2014-07-31 00:00:00   19.3      0\n",
       "5  2014-08-01 00:00:00   19.9      0"
      ]
     },
     "execution_count": 32,
     "metadata": {},
     "output_type": "execute_result"
    }
   ],
   "source": [
    "weather_data.head()"
   ]
  },
  {
   "cell_type": "code",
   "execution_count": 33,
   "metadata": {
    "collapsed": false
   },
   "outputs": [
    {
     "data": {
      "text/html": [
       "<div>\n",
       "<table border=\"1\" class=\"dataframe\">\n",
       "  <thead>\n",
       "    <tr style=\"text-align: right;\">\n",
       "      <th></th>\n",
       "      <th>value</th>\n",
       "      <th>state</th>\n",
       "    </tr>\n",
       "  </thead>\n",
       "  <tbody>\n",
       "    <tr>\n",
       "      <th>count</th>\n",
       "      <td>947.000000</td>\n",
       "      <td>947.0</td>\n",
       "    </tr>\n",
       "    <tr>\n",
       "      <th>mean</th>\n",
       "      <td>5.405280</td>\n",
       "      <td>0.0</td>\n",
       "    </tr>\n",
       "    <tr>\n",
       "      <th>std</th>\n",
       "      <td>7.577294</td>\n",
       "      <td>0.0</td>\n",
       "    </tr>\n",
       "    <tr>\n",
       "      <th>min</th>\n",
       "      <td>-19.300000</td>\n",
       "      <td>0.0</td>\n",
       "    </tr>\n",
       "    <tr>\n",
       "      <th>25%</th>\n",
       "      <td>0.100000</td>\n",
       "      <td>0.0</td>\n",
       "    </tr>\n",
       "    <tr>\n",
       "      <th>50%</th>\n",
       "      <td>5.100000</td>\n",
       "      <td>0.0</td>\n",
       "    </tr>\n",
       "    <tr>\n",
       "      <th>75%</th>\n",
       "      <td>11.500000</td>\n",
       "      <td>0.0</td>\n",
       "    </tr>\n",
       "    <tr>\n",
       "      <th>max</th>\n",
       "      <td>22.800000</td>\n",
       "      <td>0.0</td>\n",
       "    </tr>\n",
       "  </tbody>\n",
       "</table>\n",
       "</div>"
      ],
      "text/plain": [
       "            value  state\n",
       "count  947.000000  947.0\n",
       "mean     5.405280    0.0\n",
       "std      7.577294    0.0\n",
       "min    -19.300000    0.0\n",
       "25%      0.100000    0.0\n",
       "50%      5.100000    0.0\n",
       "75%     11.500000    0.0\n",
       "max     22.800000    0.0"
      ]
     },
     "execution_count": 33,
     "metadata": {},
     "output_type": "execute_result"
    }
   ],
   "source": [
    "weather_data.describe()"
   ]
  },
  {
   "cell_type": "markdown",
   "metadata": {},
   "source": [
    "Think about whether statistics for `state` make any sense to you?"
   ]
  },
  {
   "cell_type": "markdown",
   "metadata": {},
   "source": [
    "### Data engineering"
   ]
  },
  {
   "cell_type": "markdown",
   "metadata": {},
   "source": [
    "Now we play around weather dataset in order to extract the day of measurement."
   ]
  },
  {
   "cell_type": "code",
   "execution_count": 34,
   "metadata": {
    "collapsed": false
   },
   "outputs": [],
   "source": [
    "weather_data[\"date\"] = pd.to_datetime(weather_data[\"date\"], format=\"%Y-%m-%d\")"
   ]
  },
  {
   "cell_type": "code",
   "execution_count": 35,
   "metadata": {
    "collapsed": true
   },
   "outputs": [],
   "source": [
    "import calendar"
   ]
  },
  {
   "cell_type": "code",
   "execution_count": 36,
   "metadata": {
    "collapsed": false
   },
   "outputs": [],
   "source": [
    "weather_data[\"dayname\"] = weather_data[\"date\"].apply(lambda x: calendar.day_name[x.weekday()])"
   ]
  },
  {
   "cell_type": "code",
   "execution_count": 37,
   "metadata": {
    "collapsed": false
   },
   "outputs": [
    {
     "data": {
      "text/html": [
       "<div>\n",
       "<table border=\"1\" class=\"dataframe\">\n",
       "  <thead>\n",
       "    <tr style=\"text-align: right;\">\n",
       "      <th></th>\n",
       "      <th>date</th>\n",
       "      <th>value</th>\n",
       "      <th>state</th>\n",
       "      <th>dayname</th>\n",
       "    </tr>\n",
       "  </thead>\n",
       "  <tbody>\n",
       "    <tr>\n",
       "      <th>1</th>\n",
       "      <td>2014-07-28</td>\n",
       "      <td>18.9</td>\n",
       "      <td>0</td>\n",
       "      <td>Monday</td>\n",
       "    </tr>\n",
       "    <tr>\n",
       "      <th>2</th>\n",
       "      <td>2014-07-29</td>\n",
       "      <td>18.7</td>\n",
       "      <td>0</td>\n",
       "      <td>Tuesday</td>\n",
       "    </tr>\n",
       "    <tr>\n",
       "      <th>3</th>\n",
       "      <td>2014-07-30</td>\n",
       "      <td>18.3</td>\n",
       "      <td>0</td>\n",
       "      <td>Wednesday</td>\n",
       "    </tr>\n",
       "    <tr>\n",
       "      <th>4</th>\n",
       "      <td>2014-07-31</td>\n",
       "      <td>19.3</td>\n",
       "      <td>0</td>\n",
       "      <td>Thursday</td>\n",
       "    </tr>\n",
       "    <tr>\n",
       "      <th>5</th>\n",
       "      <td>2014-08-01</td>\n",
       "      <td>19.9</td>\n",
       "      <td>0</td>\n",
       "      <td>Friday</td>\n",
       "    </tr>\n",
       "  </tbody>\n",
       "</table>\n",
       "</div>"
      ],
      "text/plain": [
       "        date  value  state    dayname\n",
       "1 2014-07-28   18.9      0     Monday\n",
       "2 2014-07-29   18.7      0    Tuesday\n",
       "3 2014-07-30   18.3      0  Wednesday\n",
       "4 2014-07-31   19.3      0   Thursday\n",
       "5 2014-08-01   19.9      0     Friday"
      ]
     },
     "execution_count": 37,
     "metadata": {},
     "output_type": "execute_result"
    }
   ],
   "source": [
    "weather_data.head()"
   ]
  },
  {
   "cell_type": "code",
   "execution_count": 38,
   "metadata": {
    "collapsed": false
   },
   "outputs": [
    {
     "data": {
      "text/plain": [
       "947"
      ]
     },
     "execution_count": 38,
     "metadata": {},
     "output_type": "execute_result"
    }
   ],
   "source": [
    "len(weather_data)"
   ]
  },
  {
   "cell_type": "code",
   "execution_count": 39,
   "metadata": {
    "collapsed": false
   },
   "outputs": [
    {
     "data": {
      "text/plain": [
       "910"
      ]
     },
     "execution_count": 39,
     "metadata": {},
     "output_type": "execute_result"
    }
   ],
   "source": [
    "len(bicycles_data)"
   ]
  },
  {
   "cell_type": "markdown",
   "metadata": {},
   "source": [
    "We clearly see that there are more measurements of weather states than bicycles counts, so we need limit one dataset to make it consistent."
   ]
  },
  {
   "cell_type": "code",
   "execution_count": 40,
   "metadata": {
    "collapsed": false
   },
   "outputs": [],
   "source": [
    "bicycles_date_min, bicycles_date_max = bicycles_data[\"Data\"].tolist()[0], bicycles_data[\"Data\"].tolist()[-1]"
   ]
  },
  {
   "cell_type": "code",
   "execution_count": 41,
   "metadata": {
    "collapsed": false
   },
   "outputs": [],
   "source": [
    "weather_data_filtered = weather_data.query(\"'{}'<=date<='{}'\".format(bicycles_date_min, bicycles_date_max))"
   ]
  },
  {
   "cell_type": "code",
   "execution_count": 42,
   "metadata": {
    "collapsed": false
   },
   "outputs": [],
   "source": [
    "weather_data_filtered = weather_data_filtered.reset_index(drop=True)"
   ]
  },
  {
   "cell_type": "code",
   "execution_count": 43,
   "metadata": {
    "collapsed": true
   },
   "outputs": [],
   "source": [
    "weather_data_filtered.index += 1 "
   ]
  },
  {
   "cell_type": "markdown",
   "metadata": {},
   "source": [
    "Now `weather_data_filtered` should have the same number of rows as `bicycles_data`. You may check its `len` for exercise."
   ]
  },
  {
   "cell_type": "code",
   "execution_count": 44,
   "metadata": {
    "collapsed": false
   },
   "outputs": [
    {
     "data": {
      "text/html": [
       "<div>\n",
       "<table border=\"1\" class=\"dataframe\">\n",
       "  <thead>\n",
       "    <tr style=\"text-align: right;\">\n",
       "      <th></th>\n",
       "      <th>date</th>\n",
       "      <th>value</th>\n",
       "      <th>state</th>\n",
       "      <th>dayname</th>\n",
       "    </tr>\n",
       "  </thead>\n",
       "  <tbody>\n",
       "    <tr>\n",
       "      <th>1</th>\n",
       "      <td>2014-08-01</td>\n",
       "      <td>19.9</td>\n",
       "      <td>0</td>\n",
       "      <td>Friday</td>\n",
       "    </tr>\n",
       "    <tr>\n",
       "      <th>2</th>\n",
       "      <td>2014-08-02</td>\n",
       "      <td>19.2</td>\n",
       "      <td>0</td>\n",
       "      <td>Saturday</td>\n",
       "    </tr>\n",
       "    <tr>\n",
       "      <th>3</th>\n",
       "      <td>2014-08-03</td>\n",
       "      <td>18.5</td>\n",
       "      <td>0</td>\n",
       "      <td>Sunday</td>\n",
       "    </tr>\n",
       "    <tr>\n",
       "      <th>4</th>\n",
       "      <td>2014-08-04</td>\n",
       "      <td>19.9</td>\n",
       "      <td>0</td>\n",
       "      <td>Monday</td>\n",
       "    </tr>\n",
       "    <tr>\n",
       "      <th>5</th>\n",
       "      <td>2014-08-05</td>\n",
       "      <td>17.4</td>\n",
       "      <td>0</td>\n",
       "      <td>Tuesday</td>\n",
       "    </tr>\n",
       "  </tbody>\n",
       "</table>\n",
       "</div>"
      ],
      "text/plain": [
       "        date  value  state   dayname\n",
       "1 2014-08-01   19.9      0    Friday\n",
       "2 2014-08-02   19.2      0  Saturday\n",
       "3 2014-08-03   18.5      0    Sunday\n",
       "4 2014-08-04   19.9      0    Monday\n",
       "5 2014-08-05   17.4      0   Tuesday"
      ]
     },
     "execution_count": 44,
     "metadata": {},
     "output_type": "execute_result"
    }
   ],
   "source": [
    "weather_data_filtered.head()"
   ]
  },
  {
   "cell_type": "markdown",
   "metadata": {},
   "source": [
    "So we are ready to concatenate two datasets."
   ]
  },
  {
   "cell_type": "code",
   "execution_count": 45,
   "metadata": {
    "collapsed": false
   },
   "outputs": [],
   "source": [
    "bicycles_weather_data = pd.concat([bicycles_data, weather_data_filtered], axis=1)"
   ]
  },
  {
   "cell_type": "markdown",
   "metadata": {},
   "source": [
    "Some columns are no longer useful, so we can drop them."
   ]
  },
  {
   "cell_type": "code",
   "execution_count": 46,
   "metadata": {
    "collapsed": false
   },
   "outputs": [],
   "source": [
    "bicycles_weather_data.drop(['Data', 'state', 'startTyg', 'startM'], axis=1, inplace=True)"
   ]
  },
  {
   "cell_type": "code",
   "execution_count": 47,
   "metadata": {
    "collapsed": false
   },
   "outputs": [],
   "source": [
    "bicycles_weather_data.rename(columns={'value': 'temp'}, inplace=True)"
   ]
  },
  {
   "cell_type": "markdown",
   "metadata": {},
   "source": [
    "All in all, we end up with dataset which looks like this:"
   ]
  },
  {
   "cell_type": "code",
   "execution_count": 48,
   "metadata": {
    "collapsed": false
   },
   "outputs": [
    {
     "data": {
      "text/html": [
       "<div>\n",
       "<table border=\"1\" class=\"dataframe\">\n",
       "  <thead>\n",
       "    <tr style=\"text-align: right;\">\n",
       "      <th></th>\n",
       "      <th>Al. USA - południe</th>\n",
       "      <th>Al. USA - północ</th>\n",
       "      <th>Banacha</th>\n",
       "      <th>Bazyliańska</th>\n",
       "      <th>Belwederska</th>\n",
       "      <th>Dworzec Wilenski (al. Solidarności)</th>\n",
       "      <th>Dworzec Wileński Nowy( Targowa)</th>\n",
       "      <th>Marszałkowska</th>\n",
       "      <th>Most Gdanski - ścieżka rowerowa</th>\n",
       "      <th>Most Gdański - ciąg pieszo-rowerowy</th>\n",
       "      <th>...</th>\n",
       "      <th>Rowery (Praska ścieżka rekreacyjna)</th>\n",
       "      <th>Wybrzeże Helskie</th>\n",
       "      <th>Wysockiego</th>\n",
       "      <th>Świętokrzyska - Emilii Plater, płd</th>\n",
       "      <th>Świętokrzyska - Emilii Plater, płn</th>\n",
       "      <th>Żwirki i Wigury/Trojdena1</th>\n",
       "      <th>Żwirki i Wigury/Trojdena2</th>\n",
       "      <th>date</th>\n",
       "      <th>temp</th>\n",
       "      <th>dayname</th>\n",
       "    </tr>\n",
       "  </thead>\n",
       "  <tbody>\n",
       "    <tr>\n",
       "      <th>1</th>\n",
       "      <td>NaN</td>\n",
       "      <td>NaN</td>\n",
       "      <td>NaN</td>\n",
       "      <td>NaN</td>\n",
       "      <td>NaN</td>\n",
       "      <td>NaN</td>\n",
       "      <td>NaN</td>\n",
       "      <td>NaN</td>\n",
       "      <td>NaN</td>\n",
       "      <td>NaN</td>\n",
       "      <td>...</td>\n",
       "      <td>NaN</td>\n",
       "      <td>NaN</td>\n",
       "      <td>NaN</td>\n",
       "      <td>NaN</td>\n",
       "      <td>NaN</td>\n",
       "      <td>NaN</td>\n",
       "      <td>NaN</td>\n",
       "      <td>2014-08-01</td>\n",
       "      <td>19.9</td>\n",
       "      <td>Friday</td>\n",
       "    </tr>\n",
       "    <tr>\n",
       "      <th>2</th>\n",
       "      <td>NaN</td>\n",
       "      <td>NaN</td>\n",
       "      <td>NaN</td>\n",
       "      <td>NaN</td>\n",
       "      <td>NaN</td>\n",
       "      <td>NaN</td>\n",
       "      <td>NaN</td>\n",
       "      <td>NaN</td>\n",
       "      <td>NaN</td>\n",
       "      <td>NaN</td>\n",
       "      <td>...</td>\n",
       "      <td>NaN</td>\n",
       "      <td>NaN</td>\n",
       "      <td>NaN</td>\n",
       "      <td>NaN</td>\n",
       "      <td>NaN</td>\n",
       "      <td>NaN</td>\n",
       "      <td>NaN</td>\n",
       "      <td>2014-08-02</td>\n",
       "      <td>19.2</td>\n",
       "      <td>Saturday</td>\n",
       "    </tr>\n",
       "    <tr>\n",
       "      <th>3</th>\n",
       "      <td>NaN</td>\n",
       "      <td>NaN</td>\n",
       "      <td>NaN</td>\n",
       "      <td>NaN</td>\n",
       "      <td>NaN</td>\n",
       "      <td>NaN</td>\n",
       "      <td>NaN</td>\n",
       "      <td>NaN</td>\n",
       "      <td>NaN</td>\n",
       "      <td>NaN</td>\n",
       "      <td>...</td>\n",
       "      <td>NaN</td>\n",
       "      <td>NaN</td>\n",
       "      <td>NaN</td>\n",
       "      <td>NaN</td>\n",
       "      <td>NaN</td>\n",
       "      <td>NaN</td>\n",
       "      <td>NaN</td>\n",
       "      <td>2014-08-03</td>\n",
       "      <td>18.5</td>\n",
       "      <td>Sunday</td>\n",
       "    </tr>\n",
       "    <tr>\n",
       "      <th>4</th>\n",
       "      <td>NaN</td>\n",
       "      <td>NaN</td>\n",
       "      <td>NaN</td>\n",
       "      <td>NaN</td>\n",
       "      <td>NaN</td>\n",
       "      <td>NaN</td>\n",
       "      <td>NaN</td>\n",
       "      <td>NaN</td>\n",
       "      <td>NaN</td>\n",
       "      <td>NaN</td>\n",
       "      <td>...</td>\n",
       "      <td>NaN</td>\n",
       "      <td>NaN</td>\n",
       "      <td>NaN</td>\n",
       "      <td>NaN</td>\n",
       "      <td>NaN</td>\n",
       "      <td>NaN</td>\n",
       "      <td>NaN</td>\n",
       "      <td>2014-08-04</td>\n",
       "      <td>19.9</td>\n",
       "      <td>Monday</td>\n",
       "    </tr>\n",
       "    <tr>\n",
       "      <th>5</th>\n",
       "      <td>NaN</td>\n",
       "      <td>NaN</td>\n",
       "      <td>NaN</td>\n",
       "      <td>NaN</td>\n",
       "      <td>NaN</td>\n",
       "      <td>NaN</td>\n",
       "      <td>NaN</td>\n",
       "      <td>NaN</td>\n",
       "      <td>NaN</td>\n",
       "      <td>NaN</td>\n",
       "      <td>...</td>\n",
       "      <td>NaN</td>\n",
       "      <td>NaN</td>\n",
       "      <td>NaN</td>\n",
       "      <td>NaN</td>\n",
       "      <td>NaN</td>\n",
       "      <td>NaN</td>\n",
       "      <td>NaN</td>\n",
       "      <td>2014-08-05</td>\n",
       "      <td>17.4</td>\n",
       "      <td>Tuesday</td>\n",
       "    </tr>\n",
       "  </tbody>\n",
       "</table>\n",
       "<p>5 rows × 22 columns</p>\n",
       "</div>"
      ],
      "text/plain": [
       "   Al. USA - południe  Al. USA - północ  Banacha  Bazyliańska  Belwederska  \\\n",
       "1                 NaN               NaN      NaN          NaN          NaN   \n",
       "2                 NaN               NaN      NaN          NaN          NaN   \n",
       "3                 NaN               NaN      NaN          NaN          NaN   \n",
       "4                 NaN               NaN      NaN          NaN          NaN   \n",
       "5                 NaN               NaN      NaN          NaN          NaN   \n",
       "\n",
       "   Dworzec Wilenski (al. Solidarności)  Dworzec Wileński Nowy( Targowa)  \\\n",
       "1                                  NaN                              NaN   \n",
       "2                                  NaN                              NaN   \n",
       "3                                  NaN                              NaN   \n",
       "4                                  NaN                              NaN   \n",
       "5                                  NaN                              NaN   \n",
       "\n",
       "   Marszałkowska  Most Gdanski - ścieżka rowerowa  \\\n",
       "1            NaN                              NaN   \n",
       "2            NaN                              NaN   \n",
       "3            NaN                              NaN   \n",
       "4            NaN                              NaN   \n",
       "5            NaN                              NaN   \n",
       "\n",
       "   Most Gdański - ciąg pieszo-rowerowy    ...     \\\n",
       "1                                  NaN    ...      \n",
       "2                                  NaN    ...      \n",
       "3                                  NaN    ...      \n",
       "4                                  NaN    ...      \n",
       "5                                  NaN    ...      \n",
       "\n",
       "   Rowery (Praska ścieżka rekreacyjna)  Wybrzeże Helskie  Wysockiego  \\\n",
       "1                                  NaN               NaN         NaN   \n",
       "2                                  NaN               NaN         NaN   \n",
       "3                                  NaN               NaN         NaN   \n",
       "4                                  NaN               NaN         NaN   \n",
       "5                                  NaN               NaN         NaN   \n",
       "\n",
       "   Świętokrzyska - Emilii Plater, płd  Świętokrzyska - Emilii Plater, płn  \\\n",
       "1                                 NaN                                 NaN   \n",
       "2                                 NaN                                 NaN   \n",
       "3                                 NaN                                 NaN   \n",
       "4                                 NaN                                 NaN   \n",
       "5                                 NaN                                 NaN   \n",
       "\n",
       "   Żwirki i Wigury/Trojdena1  Żwirki i Wigury/Trojdena2       date  temp  \\\n",
       "1                        NaN                        NaN 2014-08-01  19.9   \n",
       "2                        NaN                        NaN 2014-08-02  19.2   \n",
       "3                        NaN                        NaN 2014-08-03  18.5   \n",
       "4                        NaN                        NaN 2014-08-04  19.9   \n",
       "5                        NaN                        NaN 2014-08-05  17.4   \n",
       "\n",
       "    dayname  \n",
       "1    Friday  \n",
       "2  Saturday  \n",
       "3    Sunday  \n",
       "4    Monday  \n",
       "5   Tuesday  \n",
       "\n",
       "[5 rows x 22 columns]"
      ]
     },
     "execution_count": 48,
     "metadata": {},
     "output_type": "execute_result"
    }
   ],
   "source": [
    "bicycles_weather_data.head()"
   ]
  },
  {
   "cell_type": "code",
   "execution_count": 49,
   "metadata": {
    "collapsed": false
   },
   "outputs": [],
   "source": [
    "bicycles_weather_data = bicycles_weather_data.set_index(\"date\")"
   ]
  },
  {
   "cell_type": "code",
   "execution_count": 50,
   "metadata": {
    "collapsed": true
   },
   "outputs": [],
   "source": [
    "bicycles_weather_data.index.name=None"
   ]
  },
  {
   "cell_type": "code",
   "execution_count": 51,
   "metadata": {
    "collapsed": false
   },
   "outputs": [
    {
     "data": {
      "text/html": [
       "<div>\n",
       "<table border=\"1\" class=\"dataframe\">\n",
       "  <thead>\n",
       "    <tr style=\"text-align: right;\">\n",
       "      <th></th>\n",
       "      <th>Al. USA - południe</th>\n",
       "      <th>Al. USA - północ</th>\n",
       "      <th>Banacha</th>\n",
       "      <th>Bazyliańska</th>\n",
       "      <th>Belwederska</th>\n",
       "      <th>Dworzec Wilenski (al. Solidarności)</th>\n",
       "      <th>Dworzec Wileński Nowy( Targowa)</th>\n",
       "      <th>Marszałkowska</th>\n",
       "      <th>Most Gdanski - ścieżka rowerowa</th>\n",
       "      <th>Most Gdański - ciąg pieszo-rowerowy</th>\n",
       "      <th>...</th>\n",
       "      <th>NSR-Solec - ścieżka rowerowa</th>\n",
       "      <th>Rowery (Praska ścieżka rekreacyjna)</th>\n",
       "      <th>Wybrzeże Helskie</th>\n",
       "      <th>Wysockiego</th>\n",
       "      <th>Świętokrzyska - Emilii Plater, płd</th>\n",
       "      <th>Świętokrzyska - Emilii Plater, płn</th>\n",
       "      <th>Żwirki i Wigury/Trojdena1</th>\n",
       "      <th>Żwirki i Wigury/Trojdena2</th>\n",
       "      <th>temp</th>\n",
       "      <th>dayname</th>\n",
       "    </tr>\n",
       "  </thead>\n",
       "  <tbody>\n",
       "    <tr>\n",
       "      <th>2014-08-01</th>\n",
       "      <td>NaN</td>\n",
       "      <td>NaN</td>\n",
       "      <td>NaN</td>\n",
       "      <td>NaN</td>\n",
       "      <td>NaN</td>\n",
       "      <td>NaN</td>\n",
       "      <td>NaN</td>\n",
       "      <td>NaN</td>\n",
       "      <td>NaN</td>\n",
       "      <td>NaN</td>\n",
       "      <td>...</td>\n",
       "      <td>NaN</td>\n",
       "      <td>NaN</td>\n",
       "      <td>NaN</td>\n",
       "      <td>NaN</td>\n",
       "      <td>NaN</td>\n",
       "      <td>NaN</td>\n",
       "      <td>NaN</td>\n",
       "      <td>NaN</td>\n",
       "      <td>19.9</td>\n",
       "      <td>Friday</td>\n",
       "    </tr>\n",
       "    <tr>\n",
       "      <th>2014-08-02</th>\n",
       "      <td>NaN</td>\n",
       "      <td>NaN</td>\n",
       "      <td>NaN</td>\n",
       "      <td>NaN</td>\n",
       "      <td>NaN</td>\n",
       "      <td>NaN</td>\n",
       "      <td>NaN</td>\n",
       "      <td>NaN</td>\n",
       "      <td>NaN</td>\n",
       "      <td>NaN</td>\n",
       "      <td>...</td>\n",
       "      <td>NaN</td>\n",
       "      <td>NaN</td>\n",
       "      <td>NaN</td>\n",
       "      <td>NaN</td>\n",
       "      <td>NaN</td>\n",
       "      <td>NaN</td>\n",
       "      <td>NaN</td>\n",
       "      <td>NaN</td>\n",
       "      <td>19.2</td>\n",
       "      <td>Saturday</td>\n",
       "    </tr>\n",
       "    <tr>\n",
       "      <th>2014-08-03</th>\n",
       "      <td>NaN</td>\n",
       "      <td>NaN</td>\n",
       "      <td>NaN</td>\n",
       "      <td>NaN</td>\n",
       "      <td>NaN</td>\n",
       "      <td>NaN</td>\n",
       "      <td>NaN</td>\n",
       "      <td>NaN</td>\n",
       "      <td>NaN</td>\n",
       "      <td>NaN</td>\n",
       "      <td>...</td>\n",
       "      <td>NaN</td>\n",
       "      <td>NaN</td>\n",
       "      <td>NaN</td>\n",
       "      <td>NaN</td>\n",
       "      <td>NaN</td>\n",
       "      <td>NaN</td>\n",
       "      <td>NaN</td>\n",
       "      <td>NaN</td>\n",
       "      <td>18.5</td>\n",
       "      <td>Sunday</td>\n",
       "    </tr>\n",
       "    <tr>\n",
       "      <th>2014-08-04</th>\n",
       "      <td>NaN</td>\n",
       "      <td>NaN</td>\n",
       "      <td>NaN</td>\n",
       "      <td>NaN</td>\n",
       "      <td>NaN</td>\n",
       "      <td>NaN</td>\n",
       "      <td>NaN</td>\n",
       "      <td>NaN</td>\n",
       "      <td>NaN</td>\n",
       "      <td>NaN</td>\n",
       "      <td>...</td>\n",
       "      <td>NaN</td>\n",
       "      <td>NaN</td>\n",
       "      <td>NaN</td>\n",
       "      <td>NaN</td>\n",
       "      <td>NaN</td>\n",
       "      <td>NaN</td>\n",
       "      <td>NaN</td>\n",
       "      <td>NaN</td>\n",
       "      <td>19.9</td>\n",
       "      <td>Monday</td>\n",
       "    </tr>\n",
       "    <tr>\n",
       "      <th>2014-08-05</th>\n",
       "      <td>NaN</td>\n",
       "      <td>NaN</td>\n",
       "      <td>NaN</td>\n",
       "      <td>NaN</td>\n",
       "      <td>NaN</td>\n",
       "      <td>NaN</td>\n",
       "      <td>NaN</td>\n",
       "      <td>NaN</td>\n",
       "      <td>NaN</td>\n",
       "      <td>NaN</td>\n",
       "      <td>...</td>\n",
       "      <td>NaN</td>\n",
       "      <td>NaN</td>\n",
       "      <td>NaN</td>\n",
       "      <td>NaN</td>\n",
       "      <td>NaN</td>\n",
       "      <td>NaN</td>\n",
       "      <td>NaN</td>\n",
       "      <td>NaN</td>\n",
       "      <td>17.4</td>\n",
       "      <td>Tuesday</td>\n",
       "    </tr>\n",
       "  </tbody>\n",
       "</table>\n",
       "<p>5 rows × 21 columns</p>\n",
       "</div>"
      ],
      "text/plain": [
       "            Al. USA - południe  Al. USA - północ  Banacha  Bazyliańska  \\\n",
       "2014-08-01                 NaN               NaN      NaN          NaN   \n",
       "2014-08-02                 NaN               NaN      NaN          NaN   \n",
       "2014-08-03                 NaN               NaN      NaN          NaN   \n",
       "2014-08-04                 NaN               NaN      NaN          NaN   \n",
       "2014-08-05                 NaN               NaN      NaN          NaN   \n",
       "\n",
       "            Belwederska  Dworzec Wilenski (al. Solidarności)  \\\n",
       "2014-08-01          NaN                                  NaN   \n",
       "2014-08-02          NaN                                  NaN   \n",
       "2014-08-03          NaN                                  NaN   \n",
       "2014-08-04          NaN                                  NaN   \n",
       "2014-08-05          NaN                                  NaN   \n",
       "\n",
       "            Dworzec Wileński Nowy( Targowa)  Marszałkowska  \\\n",
       "2014-08-01                              NaN            NaN   \n",
       "2014-08-02                              NaN            NaN   \n",
       "2014-08-03                              NaN            NaN   \n",
       "2014-08-04                              NaN            NaN   \n",
       "2014-08-05                              NaN            NaN   \n",
       "\n",
       "            Most Gdanski - ścieżka rowerowa  \\\n",
       "2014-08-01                              NaN   \n",
       "2014-08-02                              NaN   \n",
       "2014-08-03                              NaN   \n",
       "2014-08-04                              NaN   \n",
       "2014-08-05                              NaN   \n",
       "\n",
       "            Most Gdański - ciąg pieszo-rowerowy    ...     \\\n",
       "2014-08-01                                  NaN    ...      \n",
       "2014-08-02                                  NaN    ...      \n",
       "2014-08-03                                  NaN    ...      \n",
       "2014-08-04                                  NaN    ...      \n",
       "2014-08-05                                  NaN    ...      \n",
       "\n",
       "            NSR-Solec - ścieżka rowerowa  Rowery (Praska ścieżka rekreacyjna)  \\\n",
       "2014-08-01                           NaN                                  NaN   \n",
       "2014-08-02                           NaN                                  NaN   \n",
       "2014-08-03                           NaN                                  NaN   \n",
       "2014-08-04                           NaN                                  NaN   \n",
       "2014-08-05                           NaN                                  NaN   \n",
       "\n",
       "            Wybrzeże Helskie  Wysockiego  Świętokrzyska - Emilii Plater, płd  \\\n",
       "2014-08-01               NaN         NaN                                 NaN   \n",
       "2014-08-02               NaN         NaN                                 NaN   \n",
       "2014-08-03               NaN         NaN                                 NaN   \n",
       "2014-08-04               NaN         NaN                                 NaN   \n",
       "2014-08-05               NaN         NaN                                 NaN   \n",
       "\n",
       "            Świętokrzyska - Emilii Plater, płn  Żwirki i Wigury/Trojdena1  \\\n",
       "2014-08-01                                 NaN                        NaN   \n",
       "2014-08-02                                 NaN                        NaN   \n",
       "2014-08-03                                 NaN                        NaN   \n",
       "2014-08-04                                 NaN                        NaN   \n",
       "2014-08-05                                 NaN                        NaN   \n",
       "\n",
       "            Żwirki i Wigury/Trojdena2  temp   dayname  \n",
       "2014-08-01                        NaN  19.9    Friday  \n",
       "2014-08-02                        NaN  19.2  Saturday  \n",
       "2014-08-03                        NaN  18.5    Sunday  \n",
       "2014-08-04                        NaN  19.9    Monday  \n",
       "2014-08-05                        NaN  17.4   Tuesday  \n",
       "\n",
       "[5 rows x 21 columns]"
      ]
     },
     "execution_count": 51,
     "metadata": {},
     "output_type": "execute_result"
    }
   ],
   "source": [
    "bicycles_weather_data.head()"
   ]
  },
  {
   "cell_type": "code",
   "execution_count": 52,
   "metadata": {
    "collapsed": true
   },
   "outputs": [],
   "source": [
    "#bicycles_weather_data.to_csv(\"data/bicycles_weather.csv\")\n",
    "bicycles_weather_data = pd.read_csv(\"data/bicycles_weather.csv\", index_col=0)"
   ]
  },
  {
   "cell_type": "markdown",
   "metadata": {
    "collapsed": true
   },
   "source": [
    "## Linear regression"
   ]
  },
  {
   "cell_type": "markdown",
   "metadata": {},
   "source": [
    "Linear regression is modelling linear relationship between dependent variable y and one or more explanatory variables X. The case of one explanatory variable is called **simple linear regression**. For more than one explanatory variable, the process is called **multiple linear regression**.\n",
    "\n",
    "$$\n",
    "y = a x + b\n",
    "$$"
   ]
  },
  {
   "cell_type": "markdown",
   "metadata": {},
   "source": [
    "![\"xkcd\"](https://imgs.xkcd.com/comics/linear_regression.png)"
   ]
  },
  {
   "cell_type": "markdown",
   "metadata": {},
   "source": [
    "Analyticas solutions exist:\n",
    "\n",
    "- [Ordinary least squares](https://en.wikipedia.org/wiki/Ordinary_least_squares)\n",
    "\n",
    "- [Ridge regression](https://en.wikipedia.org/wiki/Ridge_regression)\n",
    "\n",
    "but are not always very efficient!"
   ]
  },
  {
   "cell_type": "markdown",
   "metadata": {},
   "source": [
    "Correlation:"
   ]
  },
  {
   "cell_type": "markdown",
   "metadata": {},
   "source": [
    "![\"source: wikipedia.org\"](https://upload.wikimedia.org/wikipedia/commons/d/d4/Correlation_examples2.svg)"
   ]
  },
  {
   "cell_type": "markdown",
   "metadata": {},
   "source": [
    "Materials:\n",
    "\n",
    " - https://en.wikipedia.org/wiki/Linear_regression\n",
    " \n",
    " - http://onlinestatbook.com/2/regression/intro.html\n",
    " \n",
    " - https://www.youtube.com/watch?v=KsVBBJRb9TE\n",
    " \n"
   ]
  },
  {
   "cell_type": "code",
   "execution_count": 53,
   "metadata": {
    "collapsed": false
   },
   "outputs": [
    {
     "data": {
      "image/png": "[encoded data removed]",
      "text/plain": [
       "<matplotlib.figure.Figure at 0x112fcbac8>"
      ]
     },
     "metadata": {},
     "output_type": "display_data"
    }
   ],
   "source": [
    "bicycles_weather_data.plot(x='temp', y=['Marszałkowska', 'Banacha', 'Wysockiego'], style='o', figsize=(7,8))\n",
    "plt.gca().invert_xaxis()"
   ]
  },
  {
   "cell_type": "markdown",
   "metadata": {},
   "source": [
    "Scikit learn documentation:\n",
    "\n",
    "- http://scikit-learn.org/stable/modules/generated/sklearn.linear_model.LinearRegression.html\n",
    "\n",
    "- http://scikit-learn.org/stable/auto_examples/linear_model/plot_ols.html"
   ]
  },
  {
   "cell_type": "code",
   "execution_count": 54,
   "metadata": {
    "collapsed": true
   },
   "outputs": [],
   "source": [
    "from sklearn import linear_model"
   ]
  },
  {
   "cell_type": "markdown",
   "metadata": {},
   "source": [
    "We make a linear regression object."
   ]
  },
  {
   "cell_type": "code",
   "execution_count": 55,
   "metadata": {
    "collapsed": true
   },
   "outputs": [],
   "source": [
    "linreg = linear_model.LinearRegression(fit_intercept=True)"
   ]
  },
  {
   "cell_type": "code",
   "execution_count": 56,
   "metadata": {
    "collapsed": false
   },
   "outputs": [],
   "source": [
    "street = 'Banacha'\n",
    "bicycles_weather_subset = bicycles_weather_data[['temp', street]]\n",
    "bicycles_weather_subset = bicycles_weather_subset.dropna()"
   ]
  },
  {
   "cell_type": "code",
   "execution_count": 57,
   "metadata": {
    "collapsed": false
   },
   "outputs": [
    {
     "name": "stdout",
     "output_type": "stream",
     "text": [
      "Coefficients:\n",
      " a=125.862, b=1039.162\n",
      "Mean squared error: 928477.32\n"
     ]
    }
   ],
   "source": [
    "x = bicycles_weather_subset['temp'].to_frame()\n",
    "y = bicycles_weather_subset[street].to_frame()\n",
    "linreg.fit(x, y)\n",
    "\n",
    "print('Coefficients:\\n a={:.3f}, b={:.3f}'.format(linreg.coef_[0][0], linreg.intercept_[0]))\n",
    "\n",
    "print(\"Mean squared error: %.2f\"\n",
    "      % np.mean((linreg.predict(x) - y) ** 2))"
   ]
  },
  {
   "cell_type": "markdown",
   "metadata": {},
   "source": [
    "We can plot our predicted curve."
   ]
  },
  {
   "cell_type": "code",
   "execution_count": 58,
   "metadata": {
    "collapsed": false
   },
   "outputs": [
    {
     "data": {
      "image/png": "[encoded data removed]",
      "text/plain": [
       "<matplotlib.figure.Figure at 0x1167f5c88>"
      ]
     },
     "metadata": {},
     "output_type": "display_data"
    }
   ],
   "source": [
    "bicycles_weather_data.plot(x='temp', y=street, style='o', figsize=(7,8))\n",
    "plt.plot(x, linreg.predict(x), color='k', linewidth=3)\n",
    "plt.gca().invert_xaxis()"
   ]
  },
  {
   "cell_type": "markdown",
   "metadata": {},
   "source": [
    "### Exercises"
   ]
  },
  {
   "cell_type": "markdown",
   "metadata": {},
   "source": [
    "(a) Find in the dataset a street which closest to yours living / working place and perform linear regression.\n",
    "\n",
    "(b) Find a street with the smallest _mean squared error_ of fitting."
   ]
  },
  {
   "cell_type": "code",
   "execution_count": null,
   "metadata": {
    "collapsed": true
   },
   "outputs": [],
   "source": []
  }
 ],
 "metadata": {
  "kernelspec": {
   "display_name": "Python 3",
   "language": "python",
   "name": "python3"
  },
  "language_info": {
   "codemirror_mode": {
    "name": "ipython",
    "version": 3
   },
   "file_extension": ".py",
   "mimetype": "text/x-python",
   "name": "python",
   "nbconvert_exporter": "python",
   "pygments_lexer": "ipython3",
   "version": "3.6.0"
  }
 },
 "nbformat": 4,
 "nbformat_minor": 0
}
